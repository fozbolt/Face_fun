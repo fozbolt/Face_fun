{
  "nbformat": 4,
  "nbformat_minor": 0,
  "metadata": {
    "colab": {
      "name": "Age_and_Gender_Prediction_Full.ipynb",
      "provenance": [],
      "collapsed_sections": []
    },
    "kernelspec": {
      "name": "python3",
      "display_name": "Python 3"
    },
    "accelerator": "GPU"
  },
  "cells": [
    {
      "cell_type": "markdown",
      "metadata": {
        "id": "af0B5bzjmUXP"
      },
      "source": [
        "#### Mounting Drive"
      ]
    },
    {
      "cell_type": "code",
      "metadata": {
        "id": "QmCZexMtmc9l",
        "colab": {
          "base_uri": "https://localhost:8080/"
        },
        "outputId": "5709adbe-5891-471b-920b-cb5184d7f95d"
      },
      "source": [
        "from google.colab import drive\n",
        "drive.mount('/content/drive', force_remount=True)"
      ],
      "execution_count": null,
      "outputs": [
        {
          "output_type": "stream",
          "text": [
            "Mounted at /content/drive\n"
          ],
          "name": "stdout"
        }
      ]
    },
    {
      "cell_type": "code",
      "metadata": {
        "id": "SIKtXEXYUySU"
      },
      "source": [
        "import time\r\n",
        "\r\n",
        "# starting time\r\n",
        "begin = time.time()"
      ],
      "execution_count": null,
      "outputs": []
    },
    {
      "cell_type": "markdown",
      "metadata": {
        "id": "YIaY5SI2mmz-"
      },
      "source": [
        "#### Data Preprocessing"
      ]
    },
    {
      "cell_type": "code",
      "metadata": {
        "id": "IQNPu55rmq88"
      },
      "source": [
        "fldr=\"/content/drive/MyDrive/Colab Notebooks/Face_data_based_deeplearning/UTKFace\""
      ],
      "execution_count": null,
      "outputs": []
    },
    {
      "cell_type": "code",
      "metadata": {
        "id": "qaxkAByxo4Bh"
      },
      "source": [
        "import os\n",
        "files=os.listdir(fldr)\n"
      ],
      "execution_count": null,
      "outputs": []
    },
    {
      "cell_type": "code",
      "metadata": {
        "id": "yKUxDh4ypHYP",
        "colab": {
          "base_uri": "https://localhost:8080/"
        },
        "outputId": "912e5fe9-0838-485f-9854-695a190db14e"
      },
      "source": [
        "### DATASET 1 (UTKFace)\n",
        "\n",
        "#prolazimo kroz svaku sliku i iz naziva uzimamo podatke o godinama i spolu(prvo broj u nazivu označava godine, a drugi spol)\n",
        "#0- muško, 1-žensko\n",
        "import cv2\n",
        "ages=[]\n",
        "genders=[]\n",
        "images=[]\n",
        "\n",
        "for fle in files:\n",
        "  #iz slike uzimamo podatke i spremamo u polje\n",
        "  #try-except zbog datoteka u mapi koji nisu slike\n",
        "  try:\n",
        "    age=int(fle.split('_')[0])\n",
        "    gender=int(fle.split('_')[1])\n",
        "    ages.append(age)\n",
        "    genders.append(gender)\n",
        "\n",
        "    #učitavanje slike iz putanje kao polje piksela, promjena formata boje i rezising te spremanje u polje\n",
        "    total=fldr+'/'+fle\n",
        "    #print(total)\n",
        "    image=cv2.imread(total)\n",
        "\n",
        "    #iz dokumentacije: When the image file is read with the OpenCV function imread(), the order of colors is BGR\n",
        "      #Therefore, if you want to use both the Pillow function and the OpenCV function, you need to convert BGR and RGB.\n",
        "    image = cv2.cvtColor(image, cv2.COLOR_BGR2RGB)\n",
        "    image= cv2.resize(image,(48,48))\n",
        "    images.append(image)\n",
        "\n",
        "  except: pass\n",
        "\n",
        "  \n",
        "\n",
        "print(\"finished\")\n"
      ],
      "execution_count": null,
      "outputs": [
        {
          "output_type": "stream",
          "text": [
            "finished\n"
          ],
          "name": "stdout"
        }
      ]
    },
    {
      "cell_type": "code",
      "metadata": {
        "id": "jkkqGKDnylOB",
        "colab": {
          "base_uri": "https://localhost:8080/"
        },
        "outputId": "bb05dcc2-84a6-4c15-bd6b-4556c35f052c"
      },
      "source": [
        "### DATASET 2 (ALL-AGE-FACES)\r\n",
        "## 13322 slika, uzeti svaku 3. sliku pa ih bude jedno 4440 u novom datasetu koji ćemo obrađivati\r\n",
        "\r\n",
        "\r\n",
        "fldr2=\"/content/drive/MyDrive/Colab Notebooks/Face_data_based_deeplearning/ALL-AGE-FACES\"\r\n",
        "files2=os.listdir(fldr2)\r\n",
        "\r\n",
        "'''\r\n",
        "Each image contains a different individual, and is given a unique name (%05dA%02d.jpg), illustrating the individual’s serial number and specific age. \r\n",
        "Individuals from serial number 00000 to 07380 are all female, from 07381 to 13321 are male.  --- a = \"00000A02\"\r\n",
        "'''\r\n",
        "cnt = 0\r\n",
        "for count, fle in enumerate(files2):\r\n",
        "  try:\r\n",
        "    #iz slike uzimamo podatke i spremamo u polje\r\n",
        "    age=int(fle[-6:-4])\r\n",
        "    if count>7380 : gender= 1\r\n",
        "    else: gender= 0\r\n",
        "    \r\n",
        "    ages.append(age)\r\n",
        "    genders.append(gender)\r\n",
        "\r\n",
        "    #učitavanje slike iz putanje kao polje piksela, promjena formata boje i rezising te spremanje u polje\r\n",
        "    total=fldr2+'/'+fle\r\n",
        "    #print(total)\r\n",
        "    image=cv2.imread(total)\r\n",
        "\r\n",
        "    #iz dokumentacije: When the image file is read with the OpenCV function imread(), the order of colors is BGR\r\n",
        "      #Therefore, if you want to use both the Pillow function and the OpenCV function, you need to convert BGR and RGB.\r\n",
        "    image = cv2.cvtColor(image, cv2.COLOR_BGR2RGB)\r\n",
        "    image= cv2.resize(image,(48,48))\r\n",
        "    images.append(image)\r\n",
        "  \r\n",
        "  except: cnt= cnt+1\r\n",
        "\r\n",
        "print(\"finished\")\r\n",
        "print(cnt)"
      ],
      "execution_count": null,
      "outputs": [
        {
          "output_type": "stream",
          "text": [
            "finished\n",
            "20\n"
          ],
          "name": "stdout"
        }
      ]
    },
    {
      "cell_type": "code",
      "metadata": {
        "id": "c_Nia56dPZOX"
      },
      "source": [
        ""
      ],
      "execution_count": null,
      "outputs": []
    },
    {
      "cell_type": "code",
      "metadata": {
        "id": "bs-AXkEDU4la"
      },
      "source": [
        "# start timer after images are uploaded and ready\r\n",
        "start = time.time()"
      ],
      "execution_count": null,
      "outputs": []
    },
    {
      "cell_type": "code",
      "metadata": {
        "id": "2t9s0wFV0Rt8",
        "colab": {
          "base_uri": "https://localhost:8080/",
          "height": 35
        },
        "outputId": "e6fd8690-32cc-45af-f1b9-aa87077633fe"
      },
      "source": [
        "''' visak \n",
        "for fle in files:\n",
        "  age=int(fle.split('_')[0])\n",
        "  gender=int(fle.split('_')[1])\n",
        "  ages.append(age)\n",
        "  genders.append(gender)\n",
        "'''"
      ],
      "execution_count": null,
      "outputs": [
        {
          "output_type": "execute_result",
          "data": {
            "application/vnd.google.colaboratory.intrinsic+json": {
              "type": "string"
            },
            "text/plain": [
              "\" visak \\nfor fle in files:\\n  age=int(fle.split('_')[0])\\n  gender=int(fle.split('_')[1])\\n  ages.append(age)\\n  genders.append(gender)\\n\""
            ]
          },
          "metadata": {
            "tags": []
          },
          "execution_count": 65
        }
      ]
    },
    {
      "cell_type": "code",
      "metadata": {
        "id": "_ssUXRvTtdBq",
        "colab": {
          "base_uri": "https://localhost:8080/",
          "height": 65
        },
        "outputId": "5c9092b5-5a28-43b0-cd17-95488a4556bd"
      },
      "source": [
        "from google.colab.patches import cv2_imshow\n",
        "cv2_imshow(images[24])"
      ],
      "execution_count": null,
      "outputs": [
        {
          "output_type": "display_data",
          "data": {
            "image/png": "[encoded data removed]",
            "text/plain": [
              "<PIL.Image.Image image mode=RGB size=48x48 at 0x7F3053393A10>"
            ]
          },
          "metadata": {
            "tags": []
          }
        }
      ]
    },
    {
      "cell_type": "code",
      "metadata": {
        "id": "wi2sJZBr04yY",
        "colab": {
          "base_uri": "https://localhost:8080/"
        },
        "outputId": "7a55d90f-9de5-4970-9be2-40a5161119dd"
      },
      "source": [
        "print(ages[24])\n",
        "print(genders[24])"
      ],
      "execution_count": null,
      "outputs": [
        {
          "output_type": "stream",
          "text": [
            "80\n",
            "1\n"
          ],
          "name": "stdout"
        }
      ]
    },
    {
      "cell_type": "code",
      "metadata": {
        "id": "jQyKZxGp8KUJ",
        "colab": {
          "base_uri": "https://localhost:8080/",
          "height": 65
        },
        "outputId": "ca42be77-6f2f-4418-f8ae-4b8a4b2552b8"
      },
      "source": [
        "cv2_imshow(images[53])"
      ],
      "execution_count": null,
      "outputs": [
        {
          "output_type": "display_data",
          "data": {
            "image/png": "[encoded data removed]",
            "text/plain": [
              "<PIL.Image.Image image mode=RGB size=48x48 at 0x7F30531A44D0>"
            ]
          },
          "metadata": {
            "tags": []
          }
        }
      ]
    },
    {
      "cell_type": "code",
      "metadata": {
        "id": "bNAJPpEG8MiZ",
        "colab": {
          "base_uri": "https://localhost:8080/"
        },
        "outputId": "0a61e61c-eb05-4b46-ddde-cd8d4b0a4cf3"
      },
      "source": [
        "print(ages[53])\n",
        "print(genders[53])"
      ],
      "execution_count": null,
      "outputs": [
        {
          "output_type": "stream",
          "text": [
            "80\n",
            "1\n"
          ],
          "name": "stdout"
        }
      ]
    },
    {
      "cell_type": "code",
      "metadata": {
        "id": "wcVToBvvzYSy"
      },
      "source": [
        "import numpy as np\n",
        "images_f=np.array(images)\n",
        "genders_f=np.array(genders)\n",
        "ages_f=np.array(ages)"
      ],
      "execution_count": null,
      "outputs": []
    },
    {
      "cell_type": "code",
      "metadata": {
        "id": "Zl76gFvMzoVh"
      },
      "source": [
        "np.save(fldr+'image2.npy',images_f)\n",
        "np.save(fldr+'gender2.npy',genders_f)\n",
        "np.save(fldr+'age2.npy',ages_f)"
      ],
      "execution_count": null,
      "outputs": []
    },
    {
      "cell_type": "code",
      "metadata": {
        "id": "xi_1qo4mosO3"
      },
      "source": [
        "#loadanje ako smo već jednom obradili\r\n",
        "import numpy as np\r\n",
        "genders_f = np.load('/content/drive/MyDrive/Colab Notebooks/Face_data_based_deeplearning/UTKFacegender2.npy')\r\n",
        "images_f = np.load('/content/drive/MyDrive/Colab Notebooks/Face_data_based_deeplearning/UTKFaceimage2.npy')\r\n",
        "ages_f = np.load('/content/drive/MyDrive/Colab Notebooks/Face_data_based_deeplearning/UTKFaceage2.npy')"
      ],
      "execution_count": null,
      "outputs": []
    },
    {
      "cell_type": "markdown",
      "metadata": {
        "id": "R_A3LwGS0-1r"
      },
      "source": [
        "Male = 0\n",
        "Female= 1"
      ]
    },
    {
      "cell_type": "code",
      "metadata": {
        "id": "Yk6SSk2I1Guq",
        "colab": {
          "base_uri": "https://localhost:8080/"
        },
        "outputId": "00c1dce6-2ea2-4a51-be02-b078c5fb4534"
      },
      "source": [
        "\n",
        "values, counts = np.unique(genders_f, return_counts=True)\n",
        "print(counts)"
      ],
      "execution_count": null,
      "outputs": [
        {
          "output_type": "stream",
          "text": [
            "[27153 18961]\n"
          ],
          "name": "stdout"
        }
      ]
    },
    {
      "cell_type": "code",
      "metadata": {
        "id": "s55Necnf3BGx",
        "colab": {
          "base_uri": "https://localhost:8080/",
          "height": 336
        },
        "outputId": "47bc574c-0e23-4e8c-8475-34e90cde64ea"
      },
      "source": [
        "import matplotlib.pyplot as plt\n",
        "fig = plt.figure()\n",
        "ax = fig.add_axes([0,0,1,1])\n",
        "gender = ['Male', 'Female']\n",
        "values=[counts[0],counts[1]]\n",
        "ax.bar(gender,values)\n",
        "plt.show()"
      ],
      "execution_count": null,
      "outputs": [
        {
          "output_type": "display_data",
          "data": {
            "image/png": "[encoded data removed]",
            "text/plain": [
              "<Figure size 432x288 with 1 Axes>"
            ]
          },
          "metadata": {
            "tags": [],
            "needs_background": "light"
          }
        }
      ]
    },
    {
      "cell_type": "code",
      "metadata": {
        "id": "m39_Ut8F4XsN",
        "colab": {
          "base_uri": "https://localhost:8080/"
        },
        "outputId": "9230bf91-577a-451f-d9c1-6757a9867bb4"
      },
      "source": [
        "#vidimo da ima npr 1123 osoba s 1 godinom i 4 osobe za 116 godina\n",
        "values, counts = np.unique(ages_f, return_counts=True)\n",
        "print(counts)"
      ],
      "execution_count": null,
      "outputs": [
        {
          "output_type": "stream",
          "text": [
            "[1123  720  459  452  367  351  324  454  363  289  229  312  289  312\n",
            "  334  405  334  478  306  518  558  698  755 1224 1129 2672 1261 1454\n",
            " 1281 1208  881 1314  780  997 1564 1187  951  815  738 1020  674  776\n",
            "  627  462  862  525  526  433  482  621  366  448  473  599  522  546\n",
            "  337  411  296  513  359  249  279  170  365  215  248  216  204  241\n",
            "  127  158  163  132  220  158  128  191  109  237   22   40   18   24\n",
            "  155   35   10   34   33   82    2   13    5    9   17    9   11    2\n",
            "    1    5    5    1    3    4]\n"
          ],
          "name": "stdout"
        }
      ]
    },
    {
      "cell_type": "code",
      "metadata": {
        "id": "-qfptlwh4qPp"
      },
      "source": [
        "#val=values.tolist()\n",
        "cnt=counts.tolist()"
      ],
      "execution_count": null,
      "outputs": []
    },
    {
      "cell_type": "code",
      "metadata": {
        "id": "fdD8XIB-5H40",
        "colab": {
          "base_uri": "https://localhost:8080/",
          "height": 279
        },
        "outputId": "089bd3fc-7746-40d0-f8d5-70f2e2c408a9"
      },
      "source": [
        "#u bazi podataka najviše dvadesetogodišnjaka\n",
        "plt.plot(counts)\n",
        "plt.xlabel('ages')\n",
        "plt.ylabel('distribution')\n",
        "plt.show()"
      ],
      "execution_count": null,
      "outputs": [
        {
          "output_type": "display_data",
          "data": {
            "image/png": "[encoded data removed]",
            "text/plain": [
              "<Figure size 432x288 with 1 Axes>"
            ]
          },
          "metadata": {
            "tags": [],
            "needs_background": "light"
          }
        }
      ]
    },
    {
      "cell_type": "code",
      "metadata": {
        "id": "vojKD91Z56qj"
      },
      "source": [
        "#pripremanje kategorija za varijablu Y\n",
        "labels=[]\n",
        "\n",
        "i=0\n",
        "while i<len(ages_f):\n",
        "  label=[]\n",
        "  label.append([ages_f[i]])\n",
        "  label.append([genders_f[i]])\n",
        "  labels.append(label)\n",
        "  i+=1"
      ],
      "execution_count": null,
      "outputs": []
    },
    {
      "cell_type": "code",
      "metadata": {
        "id": "JgKxJJIT7kap"
      },
      "source": [
        "#normalizacija podataka\r\n",
        "images_f_2=images_f/255"
      ],
      "execution_count": null,
      "outputs": []
    },
    {
      "cell_type": "code",
      "metadata": {
        "id": "guje-Pjx727F"
      },
      "source": [
        "labels_f=np.array(labels)"
      ],
      "execution_count": null,
      "outputs": []
    },
    {
      "cell_type": "code",
      "metadata": {
        "id": "5-Ouhd9P78UI",
        "colab": {
          "base_uri": "https://localhost:8080/"
        },
        "outputId": "49598488-02b1-4b3d-c9e6-4e881e45e808"
      },
      "source": [
        "images_f_2.shape"
      ],
      "execution_count": null,
      "outputs": [
        {
          "output_type": "execute_result",
          "data": {
            "text/plain": [
              "(46114, 48, 48, 3)"
            ]
          },
          "metadata": {
            "tags": []
          },
          "execution_count": 51
        }
      ]
    },
    {
      "cell_type": "code",
      "metadata": {
        "id": "eNuuuNi-8BkW"
      },
      "source": [
        "import tensorflow as tf\n",
        "from sklearn.model_selection import train_test_split"
      ],
      "execution_count": null,
      "outputs": []
    },
    {
      "cell_type": "code",
      "metadata": {
        "id": "_hmmID2C8Ss5"
      },
      "source": [
        "X_train, X_test, Y_train, Y_test= train_test_split(images_f_2, labels_f,test_size=0.3)"
      ],
      "execution_count": null,
      "outputs": []
    },
    {
      "cell_type": "code",
      "metadata": {
        "id": "DqTM5WSy8cK4",
        "colab": {
          "base_uri": "https://localhost:8080/"
        },
        "outputId": "dcaaa737-b469-4ce1-9521-e7bffd7a960b"
      },
      "source": [
        "#prvi element označava godine, drugi spol\r\n",
        "Y_train[0:5]"
      ],
      "execution_count": null,
      "outputs": [
        {
          "output_type": "execute_result",
          "data": {
            "text/plain": [
              "array([[[41],\n",
              "        [ 0]],\n",
              "\n",
              "       [[45],\n",
              "        [ 0]],\n",
              "\n",
              "       [[34],\n",
              "        [ 1]],\n",
              "\n",
              "       [[29],\n",
              "        [ 0]],\n",
              "\n",
              "       [[ 2],\n",
              "        [ 0]]])"
            ]
          },
          "metadata": {
            "tags": []
          },
          "execution_count": 54
        }
      ]
    },
    {
      "cell_type": "code",
      "metadata": {
        "id": "IeIqY-7F8oWB"
      },
      "source": [
        "#pretvaranje iz oblika [[[godina], [spol]],...] u oblik [[godina],[godina],...][[spol], [spol],...]] dakle iz toga da u svaki array sadrži godinu i spol u oblik da jedan array sadrži godinu a drugi spol\n",
        "Y_train_2=[Y_train[:,1],Y_train[:,0]]\n",
        "Y_test_2=[Y_test[:,1],Y_test[:,0]]"
      ],
      "execution_count": null,
      "outputs": []
    },
    {
      "cell_type": "code",
      "metadata": {
        "id": "42UhBOkE9CVV",
        "colab": {
          "base_uri": "https://localhost:8080/"
        },
        "outputId": "1a64ace2-25fe-470f-f6a5-1fb35d6d4da2"
      },
      "source": [
        "Y_train_2"
      ],
      "execution_count": null,
      "outputs": [
        {
          "output_type": "execute_result",
          "data": {
            "text/plain": [
              "[array([[0],\n",
              "        [0],\n",
              "        [1],\n",
              "        ...,\n",
              "        [1],\n",
              "        [0],\n",
              "        [0]]), array([[41],\n",
              "        [45],\n",
              "        [34],\n",
              "        ...,\n",
              "        [32],\n",
              "        [61],\n",
              "        [16]])]"
            ]
          },
          "metadata": {
            "tags": []
          },
          "execution_count": 56
        }
      ]
    },
    {
      "cell_type": "code",
      "metadata": {
        "id": "iO5BZ53v9XRI",
        "colab": {
          "base_uri": "https://localhost:8080/"
        },
        "outputId": "b85e958d-f9f7-4445-fde1-850894672ad6"
      },
      "source": [
        "Y_train_2[1][0:5]"
      ],
      "execution_count": null,
      "outputs": [
        {
          "output_type": "execute_result",
          "data": {
            "text/plain": [
              "array([[41],\n",
              "       [45],\n",
              "       [34],\n",
              "       [29],\n",
              "       [ 2]])"
            ]
          },
          "metadata": {
            "tags": []
          },
          "execution_count": 57
        }
      ]
    },
    {
      "cell_type": "markdown",
      "metadata": {
        "id": "m-jnZOef9caT"
      },
      "source": [
        "### Model"
      ]
    },
    {
      "cell_type": "code",
      "metadata": {
        "id": "UCq2odN310tA"
      },
      "source": [
        "#import po drugi puta u slučaju da pokrećemo kod samo od np.load nadalje.\r\n",
        "import time\r\n",
        "\r\n",
        "# starting time\r\n",
        "start = time.time()"
      ],
      "execution_count": null,
      "outputs": []
    },
    {
      "cell_type": "code",
      "metadata": {
        "id": "s8-iyoLN9Z8p"
      },
      "source": [
        "from tensorflow.keras.layers import Dropout\n",
        "from tensorflow.keras.layers import Flatten,BatchNormalization\n",
        "from tensorflow.keras.layers import Dense, MaxPooling2D,Conv2D\n",
        "from tensorflow.keras.layers import Input,Activation,Add\n",
        "from tensorflow.keras.models import Model\n",
        "from tensorflow.keras.regularizers import l2\n",
        "from tensorflow.keras.optimizers import Adam\n",
        "import tensorflow as tf\n",
        "\n",
        "\n",
        "#https://towardsdatascience.com/facial-data-based-deep-learning-emotion-age-and-gender-prediction-47f2cc1edda7\n",
        "def Convolution(input_tensor,filters):\n",
        "    \n",
        "    x = Conv2D(filters=filters,kernel_size=(3, 3),padding = 'same',strides=(1, 1),kernel_regularizer=l2(0.001))(input_tensor)\n",
        "    x = Dropout(0.1)(x)\n",
        "    x= Activation('relu')(x)\n",
        "\n",
        "    return x\n",
        "def model(input_shape):\n",
        "  inputs = Input((input_shape))\n",
        "  \n",
        "  conv_1= Convolution(inputs,32)\n",
        "  maxp_1 = MaxPooling2D(pool_size = (2,2)) (conv_1)\n",
        "  conv_2 = Convolution(maxp_1,64)\n",
        "  maxp_2 = MaxPooling2D(pool_size = (2, 2)) (conv_2)\n",
        "  conv_3 = Convolution(maxp_2,128)\n",
        "  maxp_3 = MaxPooling2D(pool_size = (2, 2)) (conv_3)\n",
        "  conv_4 = Convolution(maxp_3,256)\n",
        "  maxp_4 = MaxPooling2D(pool_size = (2, 2)) (conv_4)\n",
        "  flatten= Flatten() (maxp_4)\n",
        "  dense_1= Dense(64,activation='relu')(flatten)\n",
        "  dense_2= Dense(64,activation='relu')(flatten)\n",
        "  drop_1=Dropout(0.2)(dense_1)\n",
        "  drop_2=Dropout(0.2)(dense_2)\n",
        "  output_1= Dense(1,activation=\"sigmoid\",name='gender_out')(drop_1)\n",
        "  output_2= Dense(1,activation=\"relu\",name='age_out')(drop_2)\n",
        "  model = Model(inputs=[inputs], outputs=[output_1,output_2])\n",
        "  model.compile(loss=[\"binary_crossentropy\",\"mae\"], optimizer=\"Adam\",\n",
        "\tmetrics=[\"accuracy\"])\n",
        "  \n",
        "  return model\n"
      ],
      "execution_count": null,
      "outputs": []
    },
    {
      "cell_type": "code",
      "metadata": {
        "id": "9Ia-ldz8-oT3"
      },
      "source": [
        "Model=model((48,48,3))"
      ],
      "execution_count": null,
      "outputs": []
    },
    {
      "cell_type": "code",
      "metadata": {
        "id": "hslItvTK-74B",
        "colab": {
          "base_uri": "https://localhost:8080/"
        },
        "outputId": "e28e1c16-1c83-43a3-e833-7e50a50e9d4e"
      },
      "source": [
        "Model.summary()"
      ],
      "execution_count": null,
      "outputs": [
        {
          "output_type": "stream",
          "text": [
            "Model: \"model_1\"\n",
            "__________________________________________________________________________________________________\n",
            "Layer (type)                    Output Shape         Param #     Connected to                     \n",
            "==================================================================================================\n",
            "input_2 (InputLayer)            [(None, 48, 48, 3)]  0                                            \n",
            "__________________________________________________________________________________________________\n",
            "conv2d_4 (Conv2D)               (None, 48, 48, 32)   896         input_2[0][0]                    \n",
            "__________________________________________________________________________________________________\n",
            "dropout_6 (Dropout)             (None, 48, 48, 32)   0           conv2d_4[0][0]                   \n",
            "__________________________________________________________________________________________________\n",
            "activation_4 (Activation)       (None, 48, 48, 32)   0           dropout_6[0][0]                  \n",
            "__________________________________________________________________________________________________\n",
            "max_pooling2d_4 (MaxPooling2D)  (None, 24, 24, 32)   0           activation_4[0][0]               \n",
            "__________________________________________________________________________________________________\n",
            "conv2d_5 (Conv2D)               (None, 24, 24, 64)   18496       max_pooling2d_4[0][0]            \n",
            "__________________________________________________________________________________________________\n",
            "dropout_7 (Dropout)             (None, 24, 24, 64)   0           conv2d_5[0][0]                   \n",
            "__________________________________________________________________________________________________\n",
            "activation_5 (Activation)       (None, 24, 24, 64)   0           dropout_7[0][0]                  \n",
            "__________________________________________________________________________________________________\n",
            "max_pooling2d_5 (MaxPooling2D)  (None, 12, 12, 64)   0           activation_5[0][0]               \n",
            "__________________________________________________________________________________________________\n",
            "conv2d_6 (Conv2D)               (None, 12, 12, 128)  73856       max_pooling2d_5[0][0]            \n",
            "__________________________________________________________________________________________________\n",
            "dropout_8 (Dropout)             (None, 12, 12, 128)  0           conv2d_6[0][0]                   \n",
            "__________________________________________________________________________________________________\n",
            "activation_6 (Activation)       (None, 12, 12, 128)  0           dropout_8[0][0]                  \n",
            "__________________________________________________________________________________________________\n",
            "max_pooling2d_6 (MaxPooling2D)  (None, 6, 6, 128)    0           activation_6[0][0]               \n",
            "__________________________________________________________________________________________________\n",
            "conv2d_7 (Conv2D)               (None, 6, 6, 256)    295168      max_pooling2d_6[0][0]            \n",
            "__________________________________________________________________________________________________\n",
            "dropout_9 (Dropout)             (None, 6, 6, 256)    0           conv2d_7[0][0]                   \n",
            "__________________________________________________________________________________________________\n",
            "activation_7 (Activation)       (None, 6, 6, 256)    0           dropout_9[0][0]                  \n",
            "__________________________________________________________________________________________________\n",
            "max_pooling2d_7 (MaxPooling2D)  (None, 3, 3, 256)    0           activation_7[0][0]               \n",
            "__________________________________________________________________________________________________\n",
            "flatten_1 (Flatten)             (None, 2304)         0           max_pooling2d_7[0][0]            \n",
            "__________________________________________________________________________________________________\n",
            "dense_2 (Dense)                 (None, 64)           147520      flatten_1[0][0]                  \n",
            "__________________________________________________________________________________________________\n",
            "dense_3 (Dense)                 (None, 64)           147520      flatten_1[0][0]                  \n",
            "__________________________________________________________________________________________________\n",
            "dropout_10 (Dropout)            (None, 64)           0           dense_2[0][0]                    \n",
            "__________________________________________________________________________________________________\n",
            "dropout_11 (Dropout)            (None, 64)           0           dense_3[0][0]                    \n",
            "__________________________________________________________________________________________________\n",
            "gender_out (Dense)              (None, 1)            65          dropout_10[0][0]                 \n",
            "__________________________________________________________________________________________________\n",
            "age_out (Dense)                 (None, 1)            65          dropout_11[0][0]                 \n",
            "==================================================================================================\n",
            "Total params: 683,586\n",
            "Trainable params: 683,586\n",
            "Non-trainable params: 0\n",
            "__________________________________________________________________________________________________\n"
          ],
          "name": "stdout"
        }
      ]
    },
    {
      "cell_type": "markdown",
      "metadata": {
        "id": "p6qugq2n_ArD"
      },
      "source": [
        "#### Training"
      ]
    },
    {
      "cell_type": "code",
      "metadata": {
        "id": "h9CACTIq_DVp"
      },
      "source": [
        "from tensorflow.keras.callbacks import ModelCheckpoint\n",
        "import tensorflow as tf"
      ],
      "execution_count": null,
      "outputs": []
    },
    {
      "cell_type": "code",
      "metadata": {
        "id": "YmPivfSj_K0l"
      },
      "source": [
        "fle_s='Age_and_gender22.h5'\n",
        "checkpointer = ModelCheckpoint(fle_s, monitor='val_loss',verbose=1,save_best_only=True,save_weights_only=False, mode='auto',save_freq='epoch')\n",
        "Early_stop=tf.keras.callbacks.EarlyStopping(patience=75, monitor='val_loss',restore_best_weights=True),\n",
        "callback_list=[checkpointer,Early_stop]"
      ],
      "execution_count": null,
      "outputs": []
    },
    {
      "cell_type": "code",
      "metadata": {
        "id": "-BHmKYgL_R4p",
        "colab": {
          "base_uri": "https://localhost:8080/"
        },
        "outputId": "8d3c1736-654b-4dc7-fa9d-a6d6a512350f"
      },
      "source": [
        "History=Model.fit(X_train,Y_train_2,batch_size=64,validation_data=(X_test,Y_test_2),epochs=100,callbacks=[callback_list])"
      ],
      "execution_count": null,
      "outputs": [
        {
          "output_type": "stream",
          "text": [
            "Epoch 1/100\n",
            "505/505 [==============================] - 17s 30ms/step - loss: 17.4231 - gender_out_loss: 0.7073 - age_out_loss: 16.5121 - gender_out_accuracy: 0.5709 - age_out_accuracy: 0.0247 - val_loss: 16.2833 - val_gender_out_loss: 0.6732 - val_age_out_loss: 15.4645 - val_gender_out_accuracy: 0.5931 - val_age_out_accuracy: 0.0233\n",
            "\n",
            "Epoch 00001: val_loss improved from inf to 16.28329, saving model to Age_and_gender22.h5\n",
            "Epoch 2/100\n",
            "505/505 [==============================] - 14s 28ms/step - loss: 15.0385 - gender_out_loss: 0.6646 - age_out_loss: 14.2181 - gender_out_accuracy: 0.5922 - age_out_accuracy: 0.0245 - val_loss: 13.0295 - val_gender_out_loss: 0.6097 - val_age_out_loss: 12.1915 - val_gender_out_accuracy: 0.6606 - val_age_out_accuracy: 0.0233\n",
            "\n",
            "Epoch 00002: val_loss improved from 16.28329 to 13.02952, saving model to Age_and_gender22.h5\n",
            "Epoch 3/100\n",
            "505/505 [==============================] - 14s 28ms/step - loss: 12.8622 - gender_out_loss: 0.6028 - age_out_loss: 12.0162 - gender_out_accuracy: 0.6919 - age_out_accuracy: 0.0209 - val_loss: 13.0574 - val_gender_out_loss: 0.5401 - val_age_out_loss: 12.2346 - val_gender_out_accuracy: 0.7475 - val_age_out_accuracy: 0.0220\n",
            "\n",
            "Epoch 00003: val_loss did not improve from 13.02952\n",
            "Epoch 4/100\n",
            "505/505 [==============================] - 14s 28ms/step - loss: 11.6398 - gender_out_loss: 0.5366 - age_out_loss: 10.8070 - gender_out_accuracy: 0.7333 - age_out_accuracy: 0.0215 - val_loss: 12.4815 - val_gender_out_loss: 0.5004 - val_age_out_loss: 11.6481 - val_gender_out_accuracy: 0.7675 - val_age_out_accuracy: 0.0233\n",
            "\n",
            "Epoch 00004: val_loss improved from 13.02952 to 12.48152, saving model to Age_and_gender22.h5\n",
            "Epoch 5/100\n",
            "505/505 [==============================] - 14s 28ms/step - loss: 10.9367 - gender_out_loss: 0.4985 - age_out_loss: 10.0913 - gender_out_accuracy: 0.7591 - age_out_accuracy: 0.0238 - val_loss: 10.3252 - val_gender_out_loss: 0.4750 - val_age_out_loss: 9.4699 - val_gender_out_accuracy: 0.7677 - val_age_out_accuracy: 0.0233\n",
            "\n",
            "Epoch 00005: val_loss improved from 12.48152 to 10.32521, saving model to Age_and_gender22.h5\n",
            "Epoch 6/100\n",
            "505/505 [==============================] - 14s 28ms/step - loss: 10.5113 - gender_out_loss: 0.4774 - age_out_loss: 9.6426 - gender_out_accuracy: 0.7727 - age_out_accuracy: 0.0240 - val_loss: 11.4672 - val_gender_out_loss: 0.4251 - val_age_out_loss: 10.6215 - val_gender_out_accuracy: 0.7980 - val_age_out_accuracy: 0.0231\n",
            "\n",
            "Epoch 00006: val_loss did not improve from 10.32521\n",
            "Epoch 7/100\n",
            "505/505 [==============================] - 14s 28ms/step - loss: 9.9068 - gender_out_loss: 0.4491 - age_out_loss: 9.0259 - gender_out_accuracy: 0.7925 - age_out_accuracy: 0.0230 - val_loss: 10.7084 - val_gender_out_loss: 0.4597 - val_age_out_loss: 9.7883 - val_gender_out_accuracy: 0.8007 - val_age_out_accuracy: 0.0233\n",
            "\n",
            "Epoch 00007: val_loss did not improve from 10.32521\n",
            "Epoch 8/100\n",
            "505/505 [==============================] - 14s 28ms/step - loss: 9.5427 - gender_out_loss: 0.4318 - age_out_loss: 8.6410 - gender_out_accuracy: 0.8002 - age_out_accuracy: 0.0246 - val_loss: 13.1907 - val_gender_out_loss: 0.4197 - val_age_out_loss: 12.2767 - val_gender_out_accuracy: 0.8066 - val_age_out_accuracy: 0.0233\n",
            "\n",
            "Epoch 00008: val_loss did not improve from 10.32521\n",
            "Epoch 9/100\n",
            "505/505 [==============================] - 14s 28ms/step - loss: 9.2005 - gender_out_loss: 0.4155 - age_out_loss: 8.2818 - gender_out_accuracy: 0.8174 - age_out_accuracy: 0.0244 - val_loss: 10.1414 - val_gender_out_loss: 0.3839 - val_age_out_loss: 9.2307 - val_gender_out_accuracy: 0.8281 - val_age_out_accuracy: 0.0233\n",
            "\n",
            "Epoch 00009: val_loss improved from 10.32521 to 10.14138, saving model to Age_and_gender22.h5\n",
            "Epoch 10/100\n",
            "505/505 [==============================] - 14s 28ms/step - loss: 9.0372 - gender_out_loss: 0.3970 - age_out_loss: 8.1040 - gender_out_accuracy: 0.8221 - age_out_accuracy: 0.0241 - val_loss: 9.6368 - val_gender_out_loss: 0.3676 - val_age_out_loss: 8.7085 - val_gender_out_accuracy: 0.8305 - val_age_out_accuracy: 0.0233\n",
            "\n",
            "Epoch 00010: val_loss improved from 10.14138 to 9.63684, saving model to Age_and_gender22.h5\n",
            "Epoch 11/100\n",
            "505/505 [==============================] - 14s 28ms/step - loss: 8.9443 - gender_out_loss: 0.3890 - age_out_loss: 7.9868 - gender_out_accuracy: 0.8268 - age_out_accuracy: 0.0249 - val_loss: 12.0018 - val_gender_out_loss: 0.3678 - val_age_out_loss: 11.0456 - val_gender_out_accuracy: 0.8304 - val_age_out_accuracy: 0.0233\n",
            "\n",
            "Epoch 00011: val_loss did not improve from 9.63684\n",
            "Epoch 12/100\n",
            "505/505 [==============================] - 14s 28ms/step - loss: 8.5951 - gender_out_loss: 0.3744 - age_out_loss: 7.6242 - gender_out_accuracy: 0.8369 - age_out_accuracy: 0.0243 - val_loss: 10.7051 - val_gender_out_loss: 0.3556 - val_age_out_loss: 9.7343 - val_gender_out_accuracy: 0.8364 - val_age_out_accuracy: 0.0233\n",
            "\n",
            "Epoch 00012: val_loss did not improve from 9.63684\n",
            "Epoch 13/100\n",
            "505/505 [==============================] - 14s 28ms/step - loss: 8.4471 - gender_out_loss: 0.3714 - age_out_loss: 7.4531 - gender_out_accuracy: 0.8385 - age_out_accuracy: 0.0241 - val_loss: 8.9964 - val_gender_out_loss: 0.3469 - val_age_out_loss: 8.0089 - val_gender_out_accuracy: 0.8436 - val_age_out_accuracy: 0.0233\n",
            "\n",
            "Epoch 00013: val_loss improved from 9.63684 to 8.99642, saving model to Age_and_gender22.h5\n",
            "Epoch 14/100\n",
            "505/505 [==============================] - 14s 28ms/step - loss: 8.3574 - gender_out_loss: 0.3566 - age_out_loss: 7.3541 - gender_out_accuracy: 0.8464 - age_out_accuracy: 0.0246 - val_loss: 9.5198 - val_gender_out_loss: 0.3443 - val_age_out_loss: 8.5132 - val_gender_out_accuracy: 0.8432 - val_age_out_accuracy: 0.0233\n",
            "\n",
            "Epoch 00014: val_loss did not improve from 8.99642\n",
            "Epoch 15/100\n",
            "505/505 [==============================] - 14s 28ms/step - loss: 8.3219 - gender_out_loss: 0.3562 - age_out_loss: 7.2978 - gender_out_accuracy: 0.8462 - age_out_accuracy: 0.0248 - val_loss: 11.3594 - val_gender_out_loss: 0.3354 - val_age_out_loss: 10.3408 - val_gender_out_accuracy: 0.8468 - val_age_out_accuracy: 0.0233\n",
            "\n",
            "Epoch 00015: val_loss did not improve from 8.99642\n",
            "Epoch 16/100\n",
            "505/505 [==============================] - 14s 28ms/step - loss: 8.1650 - gender_out_loss: 0.3444 - age_out_loss: 7.1307 - gender_out_accuracy: 0.8482 - age_out_accuracy: 0.0249 - val_loss: 9.2222 - val_gender_out_loss: 0.3213 - val_age_out_loss: 8.1962 - val_gender_out_accuracy: 0.8546 - val_age_out_accuracy: 0.0233\n",
            "\n",
            "Epoch 00016: val_loss did not improve from 8.99642\n",
            "Epoch 17/100\n",
            "505/505 [==============================] - 14s 28ms/step - loss: 8.0381 - gender_out_loss: 0.3413 - age_out_loss: 6.9863 - gender_out_accuracy: 0.8523 - age_out_accuracy: 0.0253 - val_loss: 9.2763 - val_gender_out_loss: 0.3461 - val_age_out_loss: 8.2062 - val_gender_out_accuracy: 0.8455 - val_age_out_accuracy: 0.0233\n",
            "\n",
            "Epoch 00017: val_loss did not improve from 8.99642\n",
            "Epoch 18/100\n",
            "505/505 [==============================] - 14s 29ms/step - loss: 7.9698 - gender_out_loss: 0.3391 - age_out_loss: 6.9016 - gender_out_accuracy: 0.8517 - age_out_accuracy: 0.0252 - val_loss: 9.6199 - val_gender_out_loss: 0.3456 - val_age_out_loss: 8.5313 - val_gender_out_accuracy: 0.8390 - val_age_out_accuracy: 0.0233\n",
            "\n",
            "Epoch 00018: val_loss did not improve from 8.99642\n",
            "Epoch 19/100\n",
            "505/505 [==============================] - 14s 28ms/step - loss: 7.8706 - gender_out_loss: 0.3334 - age_out_loss: 6.7891 - gender_out_accuracy: 0.8519 - age_out_accuracy: 0.0251 - val_loss: 10.8233 - val_gender_out_loss: 0.3332 - val_age_out_loss: 9.7265 - val_gender_out_accuracy: 0.8445 - val_age_out_accuracy: 0.0233\n",
            "\n",
            "Epoch 00019: val_loss did not improve from 8.99642\n",
            "Epoch 20/100\n",
            "505/505 [==============================] - 14s 28ms/step - loss: 7.8385 - gender_out_loss: 0.3286 - age_out_loss: 6.7417 - gender_out_accuracy: 0.8578 - age_out_accuracy: 0.0249 - val_loss: 10.1043 - val_gender_out_loss: 0.3260 - val_age_out_loss: 8.9975 - val_gender_out_accuracy: 0.8545 - val_age_out_accuracy: 0.0233\n",
            "\n",
            "Epoch 00020: val_loss did not improve from 8.99642\n",
            "Epoch 21/100\n",
            "505/505 [==============================] - 14s 28ms/step - loss: 7.7391 - gender_out_loss: 0.3290 - age_out_loss: 6.6250 - gender_out_accuracy: 0.8588 - age_out_accuracy: 0.0231 - val_loss: 8.7953 - val_gender_out_loss: 0.3176 - val_age_out_loss: 7.6816 - val_gender_out_accuracy: 0.8563 - val_age_out_accuracy: 0.0233\n",
            "\n",
            "Epoch 00021: val_loss improved from 8.99642 to 8.79527, saving model to Age_and_gender22.h5\n",
            "Epoch 22/100\n",
            "505/505 [==============================] - 14s 28ms/step - loss: 7.6861 - gender_out_loss: 0.3168 - age_out_loss: 6.5686 - gender_out_accuracy: 0.8645 - age_out_accuracy: 0.0254 - val_loss: 8.5079 - val_gender_out_loss: 0.3238 - val_age_out_loss: 7.3718 - val_gender_out_accuracy: 0.8520 - val_age_out_accuracy: 0.0233\n",
            "\n",
            "Epoch 00022: val_loss improved from 8.79527 to 8.50793, saving model to Age_and_gender22.h5\n",
            "Epoch 23/100\n",
            "505/505 [==============================] - 14s 28ms/step - loss: 7.6292 - gender_out_loss: 0.3205 - age_out_loss: 6.4917 - gender_out_accuracy: 0.8632 - age_out_accuracy: 0.0237 - val_loss: 9.5506 - val_gender_out_loss: 0.3089 - val_age_out_loss: 8.4133 - val_gender_out_accuracy: 0.8609 - val_age_out_accuracy: 0.0233\n",
            "\n",
            "Epoch 00023: val_loss did not improve from 8.50793\n",
            "Epoch 24/100\n",
            "505/505 [==============================] - 14s 28ms/step - loss: 7.6104 - gender_out_loss: 0.3190 - age_out_loss: 6.4585 - gender_out_accuracy: 0.8634 - age_out_accuracy: 0.0266 - val_loss: 8.3478 - val_gender_out_loss: 0.3230 - val_age_out_loss: 7.1808 - val_gender_out_accuracy: 0.8525 - val_age_out_accuracy: 0.0233\n",
            "\n",
            "Epoch 00024: val_loss improved from 8.50793 to 8.34781, saving model to Age_and_gender22.h5\n",
            "Epoch 25/100\n",
            "505/505 [==============================] - 14s 28ms/step - loss: 7.5762 - gender_out_loss: 0.3160 - age_out_loss: 6.4123 - gender_out_accuracy: 0.8636 - age_out_accuracy: 0.0235 - val_loss: 8.1754 - val_gender_out_loss: 0.3147 - val_age_out_loss: 7.0028 - val_gender_out_accuracy: 0.8585 - val_age_out_accuracy: 0.0233\n",
            "\n",
            "Epoch 00025: val_loss improved from 8.34781 to 8.17544, saving model to Age_and_gender22.h5\n",
            "Epoch 26/100\n",
            "505/505 [==============================] - 14s 28ms/step - loss: 7.4989 - gender_out_loss: 0.3222 - age_out_loss: 6.3144 - gender_out_accuracy: 0.8646 - age_out_accuracy: 0.0244 - val_loss: 9.4309 - val_gender_out_loss: 0.3062 - val_age_out_loss: 8.2521 - val_gender_out_accuracy: 0.8641 - val_age_out_accuracy: 0.0233\n",
            "\n",
            "Epoch 00026: val_loss did not improve from 8.17544\n",
            "Epoch 27/100\n",
            "505/505 [==============================] - 14s 28ms/step - loss: 7.4096 - gender_out_loss: 0.3107 - age_out_loss: 6.2226 - gender_out_accuracy: 0.8653 - age_out_accuracy: 0.0253 - val_loss: 8.0000 - val_gender_out_loss: 0.3095 - val_age_out_loss: 6.8019 - val_gender_out_accuracy: 0.8684 - val_age_out_accuracy: 0.0233\n",
            "\n",
            "Epoch 00027: val_loss improved from 8.17544 to 7.99999, saving model to Age_and_gender22.h5\n",
            "Epoch 28/100\n",
            "505/505 [==============================] - 14s 29ms/step - loss: 7.5355 - gender_out_loss: 0.3122 - age_out_loss: 6.3314 - gender_out_accuracy: 0.8670 - age_out_accuracy: 0.0252 - val_loss: 8.7880 - val_gender_out_loss: 0.3185 - val_age_out_loss: 7.5717 - val_gender_out_accuracy: 0.8518 - val_age_out_accuracy: 0.0233\n",
            "\n",
            "Epoch 00028: val_loss did not improve from 7.99999\n",
            "Epoch 29/100\n",
            "505/505 [==============================] - 14s 28ms/step - loss: 7.3851 - gender_out_loss: 0.3098 - age_out_loss: 6.1749 - gender_out_accuracy: 0.8680 - age_out_accuracy: 0.0258 - val_loss: 7.9190 - val_gender_out_loss: 0.3069 - val_age_out_loss: 6.7037 - val_gender_out_accuracy: 0.8664 - val_age_out_accuracy: 0.0233\n",
            "\n",
            "Epoch 00029: val_loss improved from 7.99999 to 7.91898, saving model to Age_and_gender22.h5\n",
            "Epoch 30/100\n",
            "505/505 [==============================] - 14s 28ms/step - loss: 7.3112 - gender_out_loss: 0.3068 - age_out_loss: 6.0927 - gender_out_accuracy: 0.8651 - age_out_accuracy: 0.0256 - val_loss: 8.3987 - val_gender_out_loss: 0.3158 - val_age_out_loss: 7.1618 - val_gender_out_accuracy: 0.8606 - val_age_out_accuracy: 0.0233\n",
            "\n",
            "Epoch 00030: val_loss did not improve from 7.91898\n",
            "Epoch 31/100\n",
            "505/505 [==============================] - 14s 29ms/step - loss: 7.3348 - gender_out_loss: 0.3047 - age_out_loss: 6.1060 - gender_out_accuracy: 0.8692 - age_out_accuracy: 0.0247 - val_loss: 8.5949 - val_gender_out_loss: 0.3433 - val_age_out_loss: 7.3213 - val_gender_out_accuracy: 0.8335 - val_age_out_accuracy: 0.0233\n",
            "\n",
            "Epoch 00031: val_loss did not improve from 7.91898\n",
            "Epoch 32/100\n",
            "505/505 [==============================] - 14s 28ms/step - loss: 7.1915 - gender_out_loss: 0.2961 - age_out_loss: 5.9621 - gender_out_accuracy: 0.8731 - age_out_accuracy: 0.0234 - val_loss: 8.2799 - val_gender_out_loss: 0.2980 - val_age_out_loss: 7.0397 - val_gender_out_accuracy: 0.8652 - val_age_out_accuracy: 0.0233\n",
            "\n",
            "Epoch 00032: val_loss did not improve from 7.91898\n",
            "Epoch 33/100\n",
            "505/505 [==============================] - 14s 28ms/step - loss: 7.2400 - gender_out_loss: 0.2915 - age_out_loss: 6.0039 - gender_out_accuracy: 0.8749 - age_out_accuracy: 0.0240 - val_loss: 8.6827 - val_gender_out_loss: 0.3209 - val_age_out_loss: 7.4078 - val_gender_out_accuracy: 0.8492 - val_age_out_accuracy: 0.0233\n",
            "\n",
            "Epoch 00033: val_loss did not improve from 7.91898\n",
            "Epoch 34/100\n",
            "505/505 [==============================] - 14s 28ms/step - loss: 7.2227 - gender_out_loss: 0.3026 - age_out_loss: 5.9640 - gender_out_accuracy: 0.8691 - age_out_accuracy: 0.0247 - val_loss: 8.0987 - val_gender_out_loss: 0.3155 - val_age_out_loss: 6.8231 - val_gender_out_accuracy: 0.8661 - val_age_out_accuracy: 0.0233\n",
            "\n",
            "Epoch 00034: val_loss did not improve from 7.91898\n",
            "Epoch 35/100\n",
            "505/505 [==============================] - 14s 28ms/step - loss: 7.2268 - gender_out_loss: 0.3056 - age_out_loss: 5.9585 - gender_out_accuracy: 0.8702 - age_out_accuracy: 0.0241 - val_loss: 8.0633 - val_gender_out_loss: 0.3018 - val_age_out_loss: 6.7910 - val_gender_out_accuracy: 0.8621 - val_age_out_accuracy: 0.0233\n",
            "\n",
            "Epoch 00035: val_loss did not improve from 7.91898\n",
            "Epoch 36/100\n",
            "505/505 [==============================] - 14s 28ms/step - loss: 7.2813 - gender_out_loss: 0.2963 - age_out_loss: 6.0117 - gender_out_accuracy: 0.8712 - age_out_accuracy: 0.0230 - val_loss: 8.9031 - val_gender_out_loss: 0.3153 - val_age_out_loss: 7.6088 - val_gender_out_accuracy: 0.8524 - val_age_out_accuracy: 0.0233\n",
            "\n",
            "Epoch 00036: val_loss did not improve from 7.91898\n",
            "Epoch 37/100\n",
            "505/505 [==============================] - 14s 28ms/step - loss: 7.2099 - gender_out_loss: 0.2980 - age_out_loss: 5.9304 - gender_out_accuracy: 0.8726 - age_out_accuracy: 0.0238 - val_loss: 7.9333 - val_gender_out_loss: 0.3023 - val_age_out_loss: 6.6425 - val_gender_out_accuracy: 0.8627 - val_age_out_accuracy: 0.0233\n",
            "\n",
            "Epoch 00037: val_loss did not improve from 7.91898\n",
            "Epoch 38/100\n",
            "505/505 [==============================] - 14s 28ms/step - loss: 7.2088 - gender_out_loss: 0.2918 - age_out_loss: 5.9260 - gender_out_accuracy: 0.8783 - age_out_accuracy: 0.0247 - val_loss: 8.2464 - val_gender_out_loss: 0.3101 - val_age_out_loss: 6.9379 - val_gender_out_accuracy: 0.8671 - val_age_out_accuracy: 0.0233\n",
            "\n",
            "Epoch 00038: val_loss did not improve from 7.91898\n",
            "Epoch 39/100\n",
            "505/505 [==============================] - 14s 28ms/step - loss: 7.2016 - gender_out_loss: 0.2994 - age_out_loss: 5.9022 - gender_out_accuracy: 0.8725 - age_out_accuracy: 0.0240 - val_loss: 9.1316 - val_gender_out_loss: 0.3190 - val_age_out_loss: 7.8074 - val_gender_out_accuracy: 0.8505 - val_age_out_accuracy: 0.0233\n",
            "\n",
            "Epoch 00039: val_loss did not improve from 7.91898\n",
            "Epoch 40/100\n",
            "505/505 [==============================] - 14s 28ms/step - loss: 7.1145 - gender_out_loss: 0.2894 - age_out_loss: 5.8178 - gender_out_accuracy: 0.8778 - age_out_accuracy: 0.0219 - val_loss: 9.3672 - val_gender_out_loss: 0.3004 - val_age_out_loss: 8.0531 - val_gender_out_accuracy: 0.8645 - val_age_out_accuracy: 0.0233\n",
            "\n",
            "Epoch 00040: val_loss did not improve from 7.91898\n",
            "Epoch 41/100\n",
            "505/505 [==============================] - 14s 28ms/step - loss: 7.1489 - gender_out_loss: 0.2911 - age_out_loss: 5.8423 - gender_out_accuracy: 0.8769 - age_out_accuracy: 0.0227 - val_loss: 9.7521 - val_gender_out_loss: 0.2923 - val_age_out_loss: 8.4383 - val_gender_out_accuracy: 0.8682 - val_age_out_accuracy: 0.0233\n",
            "\n",
            "Epoch 00041: val_loss did not improve from 7.91898\n",
            "Epoch 42/100\n",
            "505/505 [==============================] - 14s 28ms/step - loss: 7.1657 - gender_out_loss: 0.2818 - age_out_loss: 5.8594 - gender_out_accuracy: 0.8817 - age_out_accuracy: 0.0246 - val_loss: 8.8599 - val_gender_out_loss: 0.3044 - val_age_out_loss: 7.5268 - val_gender_out_accuracy: 0.8591 - val_age_out_accuracy: 0.0233\n",
            "\n",
            "Epoch 00042: val_loss did not improve from 7.91898\n",
            "Epoch 43/100\n",
            "505/505 [==============================] - 14s 28ms/step - loss: 7.0568 - gender_out_loss: 0.2903 - age_out_loss: 5.7357 - gender_out_accuracy: 0.8770 - age_out_accuracy: 0.0236 - val_loss: 8.7984 - val_gender_out_loss: 0.2952 - val_age_out_loss: 7.4688 - val_gender_out_accuracy: 0.8677 - val_age_out_accuracy: 0.0233\n",
            "\n",
            "Epoch 00043: val_loss did not improve from 7.91898\n",
            "Epoch 44/100\n",
            "505/505 [==============================] - 14s 28ms/step - loss: 7.0284 - gender_out_loss: 0.2894 - age_out_loss: 5.7031 - gender_out_accuracy: 0.8782 - age_out_accuracy: 0.0228 - val_loss: 9.3100 - val_gender_out_loss: 0.3032 - val_age_out_loss: 7.9641 - val_gender_out_accuracy: 0.8604 - val_age_out_accuracy: 0.0233\n",
            "\n",
            "Epoch 00044: val_loss did not improve from 7.91898\n",
            "Epoch 45/100\n",
            "505/505 [==============================] - 14s 28ms/step - loss: 7.0024 - gender_out_loss: 0.2870 - age_out_loss: 5.6707 - gender_out_accuracy: 0.8777 - age_out_accuracy: 0.0232 - val_loss: 7.9757 - val_gender_out_loss: 0.2988 - val_age_out_loss: 6.6287 - val_gender_out_accuracy: 0.8683 - val_age_out_accuracy: 0.0233\n",
            "\n",
            "Epoch 00045: val_loss did not improve from 7.91898\n",
            "Epoch 46/100\n",
            "505/505 [==============================] - 14s 28ms/step - loss: 7.0905 - gender_out_loss: 0.2825 - age_out_loss: 5.7577 - gender_out_accuracy: 0.8848 - age_out_accuracy: 0.0226 - val_loss: 8.1342 - val_gender_out_loss: 0.3023 - val_age_out_loss: 6.7773 - val_gender_out_accuracy: 0.8671 - val_age_out_accuracy: 0.0233\n",
            "\n",
            "Epoch 00046: val_loss did not improve from 7.91898\n",
            "Epoch 47/100\n",
            "505/505 [==============================] - 14s 28ms/step - loss: 7.0325 - gender_out_loss: 0.2838 - age_out_loss: 5.6930 - gender_out_accuracy: 0.8798 - age_out_accuracy: 0.0235 - val_loss: 8.1949 - val_gender_out_loss: 0.3035 - val_age_out_loss: 6.8318 - val_gender_out_accuracy: 0.8621 - val_age_out_accuracy: 0.0233\n",
            "\n",
            "Epoch 00047: val_loss did not improve from 7.91898\n",
            "Epoch 48/100\n",
            "505/505 [==============================] - 14s 28ms/step - loss: 7.0023 - gender_out_loss: 0.2827 - age_out_loss: 5.6584 - gender_out_accuracy: 0.8818 - age_out_accuracy: 0.0243 - val_loss: 8.4994 - val_gender_out_loss: 0.3035 - val_age_out_loss: 7.1301 - val_gender_out_accuracy: 0.8671 - val_age_out_accuracy: 0.0233\n",
            "\n",
            "Epoch 00048: val_loss did not improve from 7.91898\n",
            "Epoch 49/100\n",
            "505/505 [==============================] - 14s 28ms/step - loss: 6.9294 - gender_out_loss: 0.2784 - age_out_loss: 5.5835 - gender_out_accuracy: 0.8824 - age_out_accuracy: 0.0232 - val_loss: 9.4637 - val_gender_out_loss: 0.3027 - val_age_out_loss: 8.0886 - val_gender_out_accuracy: 0.8611 - val_age_out_accuracy: 0.0233\n",
            "\n",
            "Epoch 00049: val_loss did not improve from 7.91898\n",
            "Epoch 50/100\n",
            "505/505 [==============================] - 14s 28ms/step - loss: 6.9371 - gender_out_loss: 0.2836 - age_out_loss: 5.5798 - gender_out_accuracy: 0.8798 - age_out_accuracy: 0.0224 - val_loss: 8.2483 - val_gender_out_loss: 0.2916 - val_age_out_loss: 6.8794 - val_gender_out_accuracy: 0.8724 - val_age_out_accuracy: 0.0231\n",
            "\n",
            "Epoch 00050: val_loss did not improve from 7.91898\n",
            "Epoch 51/100\n",
            "505/505 [==============================] - 14s 28ms/step - loss: 6.8972 - gender_out_loss: 0.2731 - age_out_loss: 5.5459 - gender_out_accuracy: 0.8857 - age_out_accuracy: 0.0214 - val_loss: 9.4631 - val_gender_out_loss: 0.2961 - val_age_out_loss: 8.0841 - val_gender_out_accuracy: 0.8700 - val_age_out_accuracy: 0.0233\n",
            "\n",
            "Epoch 00051: val_loss did not improve from 7.91898\n",
            "Epoch 52/100\n",
            "505/505 [==============================] - 14s 28ms/step - loss: 6.9847 - gender_out_loss: 0.2721 - age_out_loss: 5.6293 - gender_out_accuracy: 0.8850 - age_out_accuracy: 0.0208 - val_loss: 8.8488 - val_gender_out_loss: 0.2867 - val_age_out_loss: 7.4767 - val_gender_out_accuracy: 0.8757 - val_age_out_accuracy: 0.0233\n",
            "\n",
            "Epoch 00052: val_loss did not improve from 7.91898\n",
            "Epoch 53/100\n",
            "505/505 [==============================] - 14s 28ms/step - loss: 6.9179 - gender_out_loss: 0.2744 - age_out_loss: 5.5566 - gender_out_accuracy: 0.8824 - age_out_accuracy: 0.0211 - val_loss: 8.2186 - val_gender_out_loss: 0.3004 - val_age_out_loss: 6.8267 - val_gender_out_accuracy: 0.8651 - val_age_out_accuracy: 0.0233\n",
            "\n",
            "Epoch 00053: val_loss did not improve from 7.91898\n",
            "Epoch 54/100\n",
            "505/505 [==============================] - 14s 28ms/step - loss: 6.9065 - gender_out_loss: 0.2743 - age_out_loss: 5.5400 - gender_out_accuracy: 0.8846 - age_out_accuracy: 0.0239 - val_loss: 8.3733 - val_gender_out_loss: 0.2956 - val_age_out_loss: 6.9825 - val_gender_out_accuracy: 0.8664 - val_age_out_accuracy: 0.0230\n",
            "\n",
            "Epoch 00054: val_loss did not improve from 7.91898\n",
            "Epoch 55/100\n",
            "505/505 [==============================] - 14s 28ms/step - loss: 6.8373 - gender_out_loss: 0.2866 - age_out_loss: 5.4540 - gender_out_accuracy: 0.8798 - age_out_accuracy: 0.0218 - val_loss: 8.1324 - val_gender_out_loss: 0.2941 - val_age_out_loss: 6.7362 - val_gender_out_accuracy: 0.8683 - val_age_out_accuracy: 0.0233\n",
            "\n",
            "Epoch 00055: val_loss did not improve from 7.91898\n",
            "Epoch 56/100\n",
            "505/505 [==============================] - 14s 28ms/step - loss: 6.9944 - gender_out_loss: 0.2779 - age_out_loss: 5.6124 - gender_out_accuracy: 0.8829 - age_out_accuracy: 0.0218 - val_loss: 8.1462 - val_gender_out_loss: 0.2909 - val_age_out_loss: 6.7482 - val_gender_out_accuracy: 0.8716 - val_age_out_accuracy: 0.0233\n",
            "\n",
            "Epoch 00056: val_loss did not improve from 7.91898\n",
            "Epoch 57/100\n",
            "505/505 [==============================] - 14s 29ms/step - loss: 6.8282 - gender_out_loss: 0.2732 - age_out_loss: 5.4473 - gender_out_accuracy: 0.8869 - age_out_accuracy: 0.0208 - val_loss: 8.3267 - val_gender_out_loss: 0.2925 - val_age_out_loss: 6.9237 - val_gender_out_accuracy: 0.8720 - val_age_out_accuracy: 0.0230\n",
            "\n",
            "Epoch 00057: val_loss did not improve from 7.91898\n",
            "Epoch 58/100\n",
            "505/505 [==============================] - 14s 28ms/step - loss: 6.9244 - gender_out_loss: 0.2695 - age_out_loss: 5.5428 - gender_out_accuracy: 0.8872 - age_out_accuracy: 0.0217 - val_loss: 8.8750 - val_gender_out_loss: 0.2920 - val_age_out_loss: 7.4689 - val_gender_out_accuracy: 0.8755 - val_age_out_accuracy: 0.0233\n",
            "\n",
            "Epoch 00058: val_loss did not improve from 7.91898\n",
            "Epoch 59/100\n",
            "505/505 [==============================] - 14s 29ms/step - loss: 6.8832 - gender_out_loss: 0.2782 - age_out_loss: 5.4901 - gender_out_accuracy: 0.8813 - age_out_accuracy: 0.0212 - val_loss: 9.3659 - val_gender_out_loss: 0.2928 - val_age_out_loss: 7.9544 - val_gender_out_accuracy: 0.8761 - val_age_out_accuracy: 0.0233\n",
            "\n",
            "Epoch 00059: val_loss did not improve from 7.91898\n",
            "Epoch 60/100\n",
            "505/505 [==============================] - 14s 28ms/step - loss: 6.8341 - gender_out_loss: 0.2709 - age_out_loss: 5.4439 - gender_out_accuracy: 0.8858 - age_out_accuracy: 0.0222 - val_loss: 8.5500 - val_gender_out_loss: 0.2903 - val_age_out_loss: 7.1370 - val_gender_out_accuracy: 0.8721 - val_age_out_accuracy: 0.0232\n",
            "\n",
            "Epoch 00060: val_loss did not improve from 7.91898\n",
            "Epoch 61/100\n",
            "505/505 [==============================] - 14s 28ms/step - loss: 6.8933 - gender_out_loss: 0.2714 - age_out_loss: 5.4981 - gender_out_accuracy: 0.8866 - age_out_accuracy: 0.0201 - val_loss: 8.6275 - val_gender_out_loss: 0.2941 - val_age_out_loss: 7.2082 - val_gender_out_accuracy: 0.8703 - val_age_out_accuracy: 0.0228\n",
            "\n",
            "Epoch 00061: val_loss did not improve from 7.91898\n",
            "Epoch 62/100\n",
            "505/505 [==============================] - 15s 29ms/step - loss: 6.8729 - gender_out_loss: 0.2755 - age_out_loss: 5.4709 - gender_out_accuracy: 0.8824 - age_out_accuracy: 0.0209 - val_loss: 8.2785 - val_gender_out_loss: 0.2925 - val_age_out_loss: 6.8557 - val_gender_out_accuracy: 0.8721 - val_age_out_accuracy: 0.0233\n",
            "\n",
            "Epoch 00062: val_loss did not improve from 7.91898\n",
            "Epoch 63/100\n",
            "505/505 [==============================] - 14s 28ms/step - loss: 6.7935 - gender_out_loss: 0.2691 - age_out_loss: 5.3929 - gender_out_accuracy: 0.8869 - age_out_accuracy: 0.0231 - val_loss: 9.0725 - val_gender_out_loss: 0.3082 - val_age_out_loss: 7.6303 - val_gender_out_accuracy: 0.8553 - val_age_out_accuracy: 0.0233\n",
            "\n",
            "Epoch 00063: val_loss did not improve from 7.91898\n",
            "Epoch 64/100\n",
            "505/505 [==============================] - 14s 28ms/step - loss: 6.7649 - gender_out_loss: 0.2725 - age_out_loss: 5.3577 - gender_out_accuracy: 0.8826 - age_out_accuracy: 0.0228 - val_loss: 8.7766 - val_gender_out_loss: 0.2811 - val_age_out_loss: 7.3581 - val_gender_out_accuracy: 0.8771 - val_age_out_accuracy: 0.0233\n",
            "\n",
            "Epoch 00064: val_loss did not improve from 7.91898\n",
            "Epoch 65/100\n",
            "505/505 [==============================] - 14s 28ms/step - loss: 6.7533 - gender_out_loss: 0.2701 - age_out_loss: 5.3449 - gender_out_accuracy: 0.8858 - age_out_accuracy: 0.0205 - val_loss: 7.8893 - val_gender_out_loss: 0.2914 - val_age_out_loss: 6.4565 - val_gender_out_accuracy: 0.8678 - val_age_out_accuracy: 0.0233\n",
            "\n",
            "Epoch 00065: val_loss improved from 7.91898 to 7.88929, saving model to Age_and_gender22.h5\n",
            "Epoch 66/100\n",
            "505/505 [==============================] - 14s 28ms/step - loss: 6.8460 - gender_out_loss: 0.2625 - age_out_loss: 5.4415 - gender_out_accuracy: 0.8906 - age_out_accuracy: 0.0213 - val_loss: 8.5670 - val_gender_out_loss: 0.2917 - val_age_out_loss: 7.1309 - val_gender_out_accuracy: 0.8712 - val_age_out_accuracy: 0.0232\n",
            "\n",
            "Epoch 00066: val_loss did not improve from 7.88929\n",
            "Epoch 67/100\n",
            "505/505 [==============================] - 14s 29ms/step - loss: 6.7418 - gender_out_loss: 0.2663 - age_out_loss: 5.3308 - gender_out_accuracy: 0.8907 - age_out_accuracy: 0.0204 - val_loss: 8.8370 - val_gender_out_loss: 0.2997 - val_age_out_loss: 7.3900 - val_gender_out_accuracy: 0.8629 - val_age_out_accuracy: 0.0231\n",
            "\n",
            "Epoch 00067: val_loss did not improve from 7.88929\n",
            "Epoch 68/100\n",
            "505/505 [==============================] - 14s 29ms/step - loss: 6.8096 - gender_out_loss: 0.2686 - age_out_loss: 5.3925 - gender_out_accuracy: 0.8851 - age_out_accuracy: 0.0203 - val_loss: 8.3490 - val_gender_out_loss: 0.3081 - val_age_out_loss: 6.8897 - val_gender_out_accuracy: 0.8719 - val_age_out_accuracy: 0.0233\n",
            "\n",
            "Epoch 00068: val_loss did not improve from 7.88929\n",
            "Epoch 69/100\n",
            "505/505 [==============================] - 14s 28ms/step - loss: 6.7817 - gender_out_loss: 0.2672 - age_out_loss: 5.3621 - gender_out_accuracy: 0.8867 - age_out_accuracy: 0.0200 - val_loss: 8.1430 - val_gender_out_loss: 0.2850 - val_age_out_loss: 6.7031 - val_gender_out_accuracy: 0.8741 - val_age_out_accuracy: 0.0233\n",
            "\n",
            "Epoch 00069: val_loss did not improve from 7.88929\n",
            "Epoch 70/100\n",
            "505/505 [==============================] - 14s 28ms/step - loss: 6.7443 - gender_out_loss: 0.2678 - age_out_loss: 5.3205 - gender_out_accuracy: 0.8892 - age_out_accuracy: 0.0194 - val_loss: 8.1823 - val_gender_out_loss: 0.2917 - val_age_out_loss: 6.7331 - val_gender_out_accuracy: 0.8740 - val_age_out_accuracy: 0.0231\n",
            "\n",
            "Epoch 00070: val_loss did not improve from 7.88929\n",
            "Epoch 71/100\n",
            "505/505 [==============================] - 14s 29ms/step - loss: 6.7494 - gender_out_loss: 0.2687 - age_out_loss: 5.3220 - gender_out_accuracy: 0.8867 - age_out_accuracy: 0.0195 - val_loss: 7.5814 - val_gender_out_loss: 0.2823 - val_age_out_loss: 6.1382 - val_gender_out_accuracy: 0.8740 - val_age_out_accuracy: 0.0233\n",
            "\n",
            "Epoch 00071: val_loss improved from 7.88929 to 7.58144, saving model to Age_and_gender22.h5\n",
            "Epoch 72/100\n",
            "505/505 [==============================] - 14s 28ms/step - loss: 6.7274 - gender_out_loss: 0.2667 - age_out_loss: 5.2992 - gender_out_accuracy: 0.8863 - age_out_accuracy: 0.0202 - val_loss: 8.6488 - val_gender_out_loss: 0.2920 - val_age_out_loss: 7.1952 - val_gender_out_accuracy: 0.8652 - val_age_out_accuracy: 0.0231\n",
            "\n",
            "Epoch 00072: val_loss did not improve from 7.58144\n",
            "Epoch 73/100\n",
            "505/505 [==============================] - 14s 29ms/step - loss: 6.6847 - gender_out_loss: 0.2672 - age_out_loss: 5.2548 - gender_out_accuracy: 0.8855 - age_out_accuracy: 0.0193 - val_loss: 7.9553 - val_gender_out_loss: 0.2901 - val_age_out_loss: 6.5013 - val_gender_out_accuracy: 0.8692 - val_age_out_accuracy: 0.0233\n",
            "\n",
            "Epoch 00073: val_loss did not improve from 7.58144\n",
            "Epoch 74/100\n",
            "505/505 [==============================] - 14s 28ms/step - loss: 6.7194 - gender_out_loss: 0.2640 - age_out_loss: 5.2913 - gender_out_accuracy: 0.8897 - age_out_accuracy: 0.0186 - val_loss: 8.6581 - val_gender_out_loss: 0.2847 - val_age_out_loss: 7.2056 - val_gender_out_accuracy: 0.8749 - val_age_out_accuracy: 0.0233\n",
            "\n",
            "Epoch 00074: val_loss did not improve from 7.58144\n",
            "Epoch 75/100\n",
            "505/505 [==============================] - 15s 29ms/step - loss: 6.6216 - gender_out_loss: 0.2609 - age_out_loss: 5.1930 - gender_out_accuracy: 0.8880 - age_out_accuracy: 0.0182 - val_loss: 8.6890 - val_gender_out_loss: 0.2777 - val_age_out_loss: 7.2439 - val_gender_out_accuracy: 0.8799 - val_age_out_accuracy: 0.0225\n",
            "\n",
            "Epoch 00075: val_loss did not improve from 7.58144\n",
            "Epoch 76/100\n",
            "505/505 [==============================] - 15s 29ms/step - loss: 6.6948 - gender_out_loss: 0.2764 - age_out_loss: 5.2501 - gender_out_accuracy: 0.8841 - age_out_accuracy: 0.0198 - val_loss: 8.5491 - val_gender_out_loss: 0.2763 - val_age_out_loss: 7.1035 - val_gender_out_accuracy: 0.8812 - val_age_out_accuracy: 0.0233\n",
            "\n",
            "Epoch 00076: val_loss did not improve from 7.58144\n",
            "Epoch 77/100\n",
            "505/505 [==============================] - 14s 29ms/step - loss: 6.6510 - gender_out_loss: 0.2625 - age_out_loss: 5.2188 - gender_out_accuracy: 0.8895 - age_out_accuracy: 0.0194 - val_loss: 8.0357 - val_gender_out_loss: 0.2904 - val_age_out_loss: 6.5735 - val_gender_out_accuracy: 0.8664 - val_age_out_accuracy: 0.0231\n",
            "\n",
            "Epoch 00077: val_loss did not improve from 7.58144\n",
            "Epoch 78/100\n",
            "505/505 [==============================] - 14s 29ms/step - loss: 6.6804 - gender_out_loss: 0.2621 - age_out_loss: 5.2456 - gender_out_accuracy: 0.8912 - age_out_accuracy: 0.0199 - val_loss: 8.7214 - val_gender_out_loss: 0.2796 - val_age_out_loss: 7.2676 - val_gender_out_accuracy: 0.8777 - val_age_out_accuracy: 0.0233\n",
            "\n",
            "Epoch 00078: val_loss did not improve from 7.58144\n",
            "Epoch 79/100\n",
            "505/505 [==============================] - 14s 29ms/step - loss: 6.5988 - gender_out_loss: 0.2655 - age_out_loss: 5.1590 - gender_out_accuracy: 0.8880 - age_out_accuracy: 0.0194 - val_loss: 8.2458 - val_gender_out_loss: 0.2823 - val_age_out_loss: 6.7873 - val_gender_out_accuracy: 0.8760 - val_age_out_accuracy: 0.0232\n",
            "\n",
            "Epoch 00079: val_loss did not improve from 7.58144\n",
            "Epoch 80/100\n",
            "505/505 [==============================] - 14s 29ms/step - loss: 6.6186 - gender_out_loss: 0.2681 - age_out_loss: 5.1736 - gender_out_accuracy: 0.8866 - age_out_accuracy: 0.0199 - val_loss: 8.1616 - val_gender_out_loss: 0.2842 - val_age_out_loss: 6.6986 - val_gender_out_accuracy: 0.8763 - val_age_out_accuracy: 0.0230\n",
            "\n",
            "Epoch 00080: val_loss did not improve from 7.58144\n",
            "Epoch 81/100\n",
            "505/505 [==============================] - 14s 28ms/step - loss: 6.7073 - gender_out_loss: 0.2716 - age_out_loss: 5.2564 - gender_out_accuracy: 0.8862 - age_out_accuracy: 0.0183 - val_loss: 8.7107 - val_gender_out_loss: 0.2854 - val_age_out_loss: 7.2447 - val_gender_out_accuracy: 0.8786 - val_age_out_accuracy: 0.0231\n",
            "\n",
            "Epoch 00081: val_loss did not improve from 7.58144\n",
            "Epoch 82/100\n",
            "505/505 [==============================] - 14s 28ms/step - loss: 6.5945 - gender_out_loss: 0.2617 - age_out_loss: 5.1516 - gender_out_accuracy: 0.8915 - age_out_accuracy: 0.0176 - val_loss: 8.3636 - val_gender_out_loss: 0.2823 - val_age_out_loss: 6.9001 - val_gender_out_accuracy: 0.8720 - val_age_out_accuracy: 0.0229\n",
            "\n",
            "Epoch 00082: val_loss did not improve from 7.58144\n",
            "Epoch 83/100\n",
            "505/505 [==============================] - 14s 29ms/step - loss: 6.6698 - gender_out_loss: 0.2694 - age_out_loss: 5.2194 - gender_out_accuracy: 0.8850 - age_out_accuracy: 0.0184 - val_loss: 7.7889 - val_gender_out_loss: 0.2844 - val_age_out_loss: 6.3220 - val_gender_out_accuracy: 0.8733 - val_age_out_accuracy: 0.0228\n",
            "\n",
            "Epoch 00083: val_loss did not improve from 7.58144\n",
            "Epoch 84/100\n",
            "505/505 [==============================] - 15s 29ms/step - loss: 6.6538 - gender_out_loss: 0.2658 - age_out_loss: 5.2052 - gender_out_accuracy: 0.8862 - age_out_accuracy: 0.0181 - val_loss: 7.9620 - val_gender_out_loss: 0.2829 - val_age_out_loss: 6.4942 - val_gender_out_accuracy: 0.8741 - val_age_out_accuracy: 0.0232\n",
            "\n",
            "Epoch 00084: val_loss did not improve from 7.58144\n",
            "Epoch 85/100\n",
            "505/505 [==============================] - 14s 29ms/step - loss: 6.5904 - gender_out_loss: 0.2630 - age_out_loss: 5.1416 - gender_out_accuracy: 0.8931 - age_out_accuracy: 0.0190 - val_loss: 8.0036 - val_gender_out_loss: 0.2858 - val_age_out_loss: 6.5290 - val_gender_out_accuracy: 0.8737 - val_age_out_accuracy: 0.0228\n",
            "\n",
            "Epoch 00085: val_loss did not improve from 7.58144\n",
            "Epoch 86/100\n",
            "505/505 [==============================] - 14s 28ms/step - loss: 6.5746 - gender_out_loss: 0.2699 - age_out_loss: 5.1150 - gender_out_accuracy: 0.8875 - age_out_accuracy: 0.0165 - val_loss: 8.9006 - val_gender_out_loss: 0.3009 - val_age_out_loss: 7.4074 - val_gender_out_accuracy: 0.8582 - val_age_out_accuracy: 0.0233\n",
            "\n",
            "Epoch 00086: val_loss did not improve from 7.58144\n",
            "Epoch 87/100\n",
            "505/505 [==============================] - 14s 29ms/step - loss: 6.6209 - gender_out_loss: 0.2655 - age_out_loss: 5.1628 - gender_out_accuracy: 0.8873 - age_out_accuracy: 0.0167 - val_loss: 8.1860 - val_gender_out_loss: 0.2919 - val_age_out_loss: 6.7022 - val_gender_out_accuracy: 0.8651 - val_age_out_accuracy: 0.0233\n",
            "\n",
            "Epoch 00087: val_loss did not improve from 7.58144\n",
            "Epoch 88/100\n",
            "505/505 [==============================] - 14s 28ms/step - loss: 6.5914 - gender_out_loss: 0.2654 - age_out_loss: 5.1341 - gender_out_accuracy: 0.8893 - age_out_accuracy: 0.0187 - val_loss: 8.0324 - val_gender_out_loss: 0.3005 - val_age_out_loss: 6.5401 - val_gender_out_accuracy: 0.8760 - val_age_out_accuracy: 0.0231\n",
            "\n",
            "Epoch 00088: val_loss did not improve from 7.58144\n",
            "Epoch 89/100\n",
            "505/505 [==============================] - 14s 29ms/step - loss: 6.6823 - gender_out_loss: 0.2665 - age_out_loss: 5.2224 - gender_out_accuracy: 0.8897 - age_out_accuracy: 0.0189 - val_loss: 7.9830 - val_gender_out_loss: 0.2875 - val_age_out_loss: 6.4997 - val_gender_out_accuracy: 0.8687 - val_age_out_accuracy: 0.0233\n",
            "\n",
            "Epoch 00089: val_loss did not improve from 7.58144\n",
            "Epoch 90/100\n",
            "505/505 [==============================] - 14s 28ms/step - loss: 6.6423 - gender_out_loss: 0.2603 - age_out_loss: 5.1852 - gender_out_accuracy: 0.8919 - age_out_accuracy: 0.0188 - val_loss: 7.6659 - val_gender_out_loss: 0.2983 - val_age_out_loss: 6.1686 - val_gender_out_accuracy: 0.8658 - val_age_out_accuracy: 0.0223\n",
            "\n",
            "Epoch 00090: val_loss did not improve from 7.58144\n",
            "Epoch 91/100\n",
            "505/505 [==============================] - 14s 28ms/step - loss: 6.6737 - gender_out_loss: 0.2649 - age_out_loss: 5.2092 - gender_out_accuracy: 0.8877 - age_out_accuracy: 0.0174 - val_loss: 8.1077 - val_gender_out_loss: 0.2873 - val_age_out_loss: 6.6209 - val_gender_out_accuracy: 0.8738 - val_age_out_accuracy: 0.0231\n",
            "\n",
            "Epoch 00091: val_loss did not improve from 7.58144\n",
            "Epoch 92/100\n",
            "505/505 [==============================] - 14s 29ms/step - loss: 6.5793 - gender_out_loss: 0.2650 - age_out_loss: 5.1140 - gender_out_accuracy: 0.8891 - age_out_accuracy: 0.0166 - val_loss: 8.2723 - val_gender_out_loss: 0.2831 - val_age_out_loss: 6.7892 - val_gender_out_accuracy: 0.8782 - val_age_out_accuracy: 0.0228\n",
            "\n",
            "Epoch 00092: val_loss did not improve from 7.58144\n",
            "Epoch 93/100\n",
            "505/505 [==============================] - 14s 29ms/step - loss: 6.5483 - gender_out_loss: 0.2603 - age_out_loss: 5.0878 - gender_out_accuracy: 0.8927 - age_out_accuracy: 0.0193 - val_loss: 7.5216 - val_gender_out_loss: 0.2861 - val_age_out_loss: 6.0339 - val_gender_out_accuracy: 0.8734 - val_age_out_accuracy: 0.0228\n",
            "\n",
            "Epoch 00093: val_loss improved from 7.58144 to 7.52156, saving model to Age_and_gender22.h5\n",
            "Epoch 94/100\n",
            "505/505 [==============================] - 15s 29ms/step - loss: 6.5811 - gender_out_loss: 0.2513 - age_out_loss: 5.1272 - gender_out_accuracy: 0.8943 - age_out_accuracy: 0.0180 - val_loss: 8.0186 - val_gender_out_loss: 0.2821 - val_age_out_loss: 6.5344 - val_gender_out_accuracy: 0.8777 - val_age_out_accuracy: 0.0231\n",
            "\n",
            "Epoch 00094: val_loss did not improve from 7.52156\n",
            "Epoch 95/100\n",
            "505/505 [==============================] - 14s 28ms/step - loss: 6.5811 - gender_out_loss: 0.2545 - age_out_loss: 5.1244 - gender_out_accuracy: 0.8954 - age_out_accuracy: 0.0170 - val_loss: 7.7571 - val_gender_out_loss: 0.2973 - val_age_out_loss: 6.2575 - val_gender_out_accuracy: 0.8646 - val_age_out_accuracy: 0.0212\n",
            "\n",
            "Epoch 00095: val_loss did not improve from 7.52156\n",
            "Epoch 96/100\n",
            "505/505 [==============================] - 14s 29ms/step - loss: 6.5750 - gender_out_loss: 0.2632 - age_out_loss: 5.1092 - gender_out_accuracy: 0.8892 - age_out_accuracy: 0.0178 - val_loss: 8.4481 - val_gender_out_loss: 0.2812 - val_age_out_loss: 6.9632 - val_gender_out_accuracy: 0.8757 - val_age_out_accuracy: 0.0232\n",
            "\n",
            "Epoch 00096: val_loss did not improve from 7.52156\n",
            "Epoch 97/100\n",
            "505/505 [==============================] - 14s 29ms/step - loss: 6.5724 - gender_out_loss: 0.2592 - age_out_loss: 5.1082 - gender_out_accuracy: 0.8916 - age_out_accuracy: 0.0164 - val_loss: 8.3348 - val_gender_out_loss: 0.2850 - val_age_out_loss: 6.8431 - val_gender_out_accuracy: 0.8735 - val_age_out_accuracy: 0.0233\n",
            "\n",
            "Epoch 00097: val_loss did not improve from 7.52156\n",
            "Epoch 98/100\n",
            "505/505 [==============================] - 15s 29ms/step - loss: 6.4856 - gender_out_loss: 0.2540 - age_out_loss: 5.0250 - gender_out_accuracy: 0.8934 - age_out_accuracy: 0.0169 - val_loss: 8.2371 - val_gender_out_loss: 0.2826 - val_age_out_loss: 6.7486 - val_gender_out_accuracy: 0.8744 - val_age_out_accuracy: 0.0233\n",
            "\n",
            "Epoch 00098: val_loss did not improve from 7.52156\n",
            "Epoch 99/100\n",
            "505/505 [==============================] - 15s 29ms/step - loss: 6.5039 - gender_out_loss: 0.2552 - age_out_loss: 5.0413 - gender_out_accuracy: 0.8932 - age_out_accuracy: 0.0165 - val_loss: 8.1937 - val_gender_out_loss: 0.2817 - val_age_out_loss: 6.7017 - val_gender_out_accuracy: 0.8721 - val_age_out_accuracy: 0.0231\n",
            "\n",
            "Epoch 00099: val_loss did not improve from 7.52156\n",
            "Epoch 100/100\n",
            "505/505 [==============================] - 15s 29ms/step - loss: 6.6655 - gender_out_loss: 0.2609 - age_out_loss: 5.1935 - gender_out_accuracy: 0.8902 - age_out_accuracy: 0.0161 - val_loss: 7.7473 - val_gender_out_loss: 0.2873 - val_age_out_loss: 6.2490 - val_gender_out_accuracy: 0.8753 - val_age_out_accuracy: 0.0231\n",
            "\n",
            "Epoch 00100: val_loss did not improve from 7.52156\n"
          ],
          "name": "stdout"
        }
      ]
    },
    {
      "cell_type": "code",
      "metadata": {
        "id": "bja-RXZA86rd"
      },
      "source": [
        "#ne radi\r\n",
        "Model.save('age_and_gender_2.h5')"
      ],
      "execution_count": null,
      "outputs": []
    },
    {
      "cell_type": "code",
      "metadata": {
        "id": "kubk8x3Jzr0j"
      },
      "source": [
        "#drugi nacin za spremanje\r\n",
        "saveModel='age_and_gender_22.h5'\r\n",
        "checkpointer = ModelCheckpoint(saveModel, monitor='val_loss',verbose=1,save_best_only=True,save_weights_only=False, mode='auto',save_freq='epoch')\r\n",
        "Early_stop=tf.keras.callbacks.EarlyStopping(patience=75, monitor='val_loss',restore_best_weights=True),\r\n",
        "callback_list=[checkpointer,Early_stop]"
      ],
      "execution_count": null,
      "outputs": []
    },
    {
      "cell_type": "code",
      "metadata": {
        "id": "Iy-K7u32VCU0",
        "colab": {
          "base_uri": "https://localhost:8080/"
        },
        "outputId": "160f2b8a-315c-410c-fe08-ac0317a69c13"
      },
      "source": [
        "end = time.time()\r\n",
        "try:\r\n",
        "  #u slučaju da nismo runnali program od početka nego od np.load()\r\n",
        "  print(f\"Runtime of the full program is {end - begin}\")\r\n",
        "\r\n",
        "except: pass\r\n",
        "\r\n",
        "print(f\"Runtime of the model training is {end - start}\")"
      ],
      "execution_count": null,
      "outputs": [
        {
          "output_type": "stream",
          "text": [
            "Runtime of the model training is 1437.7679226398468\n"
          ],
          "name": "stdout"
        }
      ]
    },
    {
      "cell_type": "markdown",
      "metadata": {
        "id": "4GTxXMmZMoIG"
      },
      "source": [
        "### Evaluation"
      ]
    },
    {
      "cell_type": "code",
      "metadata": {
        "id": "039DUHa3HqrK",
        "colab": {
          "base_uri": "https://localhost:8080/"
        },
        "outputId": "0dd791fa-83e7-4c71-8b34-638e3a7f99ba"
      },
      "source": [
        "Model.evaluate(X_test,Y_test_2)"
      ],
      "execution_count": null,
      "outputs": [
        {
          "output_type": "stream",
          "text": [
            "433/433 [==============================] - 3s 7ms/step - loss: 7.7473 - gender_out_loss: 0.2873 - age_out_loss: 6.2490 - gender_out_accuracy: 0.8753 - age_out_accuracy: 0.0231\n"
          ],
          "name": "stdout"
        },
        {
          "output_type": "execute_result",
          "data": {
            "text/plain": [
              "[7.74728536605835,\n",
              " 0.2873482406139374,\n",
              " 6.248960018157959,\n",
              " 0.8753162026405334,\n",
              " 0.02305746264755726]"
            ]
          },
          "metadata": {
            "tags": []
          },
          "execution_count": 68
        }
      ]
    },
    {
      "cell_type": "code",
      "metadata": {
        "id": "YuvpiE1wMHh1"
      },
      "source": [
        "pred=Model.predict(X_test)"
      ],
      "execution_count": null,
      "outputs": []
    },
    {
      "cell_type": "code",
      "metadata": {
        "id": "MxGHD2z3MSVg",
        "colab": {
          "base_uri": "https://localhost:8080/"
        },
        "outputId": "893f1333-e9b3-4acb-c6c0-11697f5b90b0"
      },
      "source": [
        "pred[1]"
      ],
      "execution_count": null,
      "outputs": [
        {
          "output_type": "execute_result",
          "data": {
            "text/plain": [
              "array([[75.66132  ],\n",
              "       [ 6.7102327],\n",
              "       [18.352    ],\n",
              "       ...,\n",
              "       [43.689842 ],\n",
              "       [28.948997 ],\n",
              "       [23.418524 ]], dtype=float32)"
            ]
          },
          "metadata": {
            "tags": []
          },
          "execution_count": 70
        }
      ]
    },
    {
      "cell_type": "code",
      "metadata": {
        "id": "h1JH3UesNbWl",
        "colab": {
          "base_uri": "https://localhost:8080/",
          "height": 366
        },
        "outputId": "f84da537-069b-4c57-879c-fd1c7dc1749d"
      },
      "source": [
        "plt.plot(History.history['loss'])\n",
        "plt.plot(History.history['val_loss'])\n",
        "plt.title('Model loss')\n",
        "plt.ylabel('Loss')\n",
        "plt.xlabel('Epoch')\n",
        "plt.legend(['Train', 'Validation'], loc='upper left')\n",
        "plt.subplots_adjust(top=1.00, bottom=0.0, left=0.0, right=0.95, hspace=0.25,\n",
        "                        wspace=0.35)"
      ],
      "execution_count": null,
      "outputs": [
        {
          "output_type": "display_data",
          "data": {
            "image/png": "[encoded data removed]",
            "text/plain": [
              "<Figure size 432x288 with 1 Axes>"
            ]
          },
          "metadata": {
            "tags": [],
            "needs_background": "light"
          }
        }
      ]
    },
    {
      "cell_type": "markdown",
      "metadata": {
        "id": "vLLBBZ85N2hX"
      },
      "source": [
        "### For Gender"
      ]
    },
    {
      "cell_type": "code",
      "metadata": {
        "id": "jtHjuedANlXJ",
        "colab": {
          "base_uri": "https://localhost:8080/",
          "height": 366
        },
        "outputId": "04ad7e07-6049-4c79-b816-2c006a851b6d"
      },
      "source": [
        "plt.plot(History.history['gender_out_accuracy'])\n",
        "plt.plot(History.history['val_gender_out_accuracy'])\n",
        "plt.title('Model accuracy')\n",
        "plt.ylabel('Accuracy')\n",
        "plt.xlabel('Epoch')\n",
        "plt.legend(['Train', 'Validation'], loc='upper left')\n",
        "plt.subplots_adjust(top=1.00, bottom=0.0, left=0.0, right=0.95, hspace=0.25,\n",
        "                        wspace=0.35)"
      ],
      "execution_count": null,
      "outputs": [
        {
          "output_type": "display_data",
          "data": {
            "image/png": "[encoded data removed]",
            "text/plain": [
              "<Figure size 432x288 with 1 Axes>"
            ]
          },
          "metadata": {
            "tags": [],
            "needs_background": "light"
          }
        }
      ]
    },
    {
      "cell_type": "markdown",
      "metadata": {
        "id": "fw_q7kswNSHB"
      },
      "source": [
        "### For age"
      ]
    },
    {
      "cell_type": "code",
      "metadata": {
        "id": "-pEsL-KEMsJ2",
        "colab": {
          "base_uri": "https://localhost:8080/",
          "height": 280
        },
        "outputId": "2e7fa382-be9e-423f-c47a-59d3898016ba"
      },
      "source": [
        "fig, ax = plt.subplots()\n",
        "ax.scatter(Y_test_2[1], pred[1])\n",
        "ax.plot([Y_test_2[1].min(),Y_test_2[1].max()], [Y_test_2[1].min(), Y_test_2[1].max()], 'k--', lw=4)\n",
        "ax.set_xlabel('Actual Age')\n",
        "ax.set_ylabel('Predicted Age')\n",
        "plt.show()"
      ],
      "execution_count": null,
      "outputs": [
        {
          "output_type": "display_data",
          "data": {
            "image/png": "[encoded data removed]",
            "text/plain": [
              "<Figure size 432x288 with 1 Axes>"
            ]
          },
          "metadata": {
            "tags": [],
            "needs_background": "light"
          }
        }
      ]
    },
    {
      "cell_type": "markdown",
      "metadata": {
        "id": "UkP6tH4INWVu"
      },
      "source": [
        "#### For Gender"
      ]
    },
    {
      "cell_type": "code",
      "metadata": {
        "id": "cNqvx_y5NNsD"
      },
      "source": [
        "i=0\n",
        "Pred_l=[]\n",
        "while(i<len(pred[0])):\n",
        "\n",
        "  Pred_l.append(int(np.round(pred[0][i])))\n",
        "  i+=1\n"
      ],
      "execution_count": null,
      "outputs": []
    },
    {
      "cell_type": "code",
      "metadata": {
        "id": "_V3vuxZsPCTW"
      },
      "source": [
        "from sklearn.metrics import confusion_matrix \n",
        "\n",
        "from sklearn.metrics import classification_report "
      ],
      "execution_count": null,
      "outputs": []
    },
    {
      "cell_type": "code",
      "metadata": {
        "id": "xDIumUnTO8L8"
      },
      "source": [
        "\n",
        "report=classification_report(Y_test_2[0], Pred_l)"
      ],
      "execution_count": null,
      "outputs": []
    },
    {
      "cell_type": "code",
      "metadata": {
        "id": "jZEel7nVPfSM",
        "colab": {
          "base_uri": "https://localhost:8080/"
        },
        "outputId": "793a85a2-19c3-49f0-ee4b-2d7dd4bc328b"
      },
      "source": [
        "print(report)"
      ],
      "execution_count": null,
      "outputs": [
        {
          "output_type": "stream",
          "text": [
            "              precision    recall  f1-score   support\n",
            "\n",
            "           0       0.90      0.89      0.89      8205\n",
            "           1       0.84      0.86      0.85      5630\n",
            "\n",
            "    accuracy                           0.88     13835\n",
            "   macro avg       0.87      0.87      0.87     13835\n",
            "weighted avg       0.88      0.88      0.88     13835\n",
            "\n"
          ],
          "name": "stdout"
        }
      ]
    },
    {
      "cell_type": "code",
      "metadata": {
        "id": "UD15IsW0QDIL"
      },
      "source": [
        "\n",
        "results = confusion_matrix(Y_test_2[0], Pred_l)"
      ],
      "execution_count": null,
      "outputs": []
    },
    {
      "cell_type": "code",
      "metadata": {
        "id": "x-w4R3GTQcLr"
      },
      "source": [
        "def test_image(ind,images_f,images_f_2,Model):\n",
        "\n",
        "  #pretvorba nazad u rgb format\n",
        "  image = cv2.cvtColor(images_f[ind], cv2.COLOR_BGR2RGB)\n",
        "  cv2_imshow(image)\n",
        "  image_test=images_f_2[ind]\n",
        "\n",
        "  #podaci iz slike i modela\n",
        "  pred_1=Model.predict(np.array([image_test]))\n",
        "  #print(pred_1)\n",
        "  gender_f=['Male','Female']\n",
        "  age=int(np.round(pred_1[1][0]))\n",
        "  gender=int(np.round(pred_1[0][0]))\n",
        "  print(\"Predicted Age: \"+ str(age))\n",
        "  print(\"Predicted Gender: \"+ gender_f[gender])\n",
        "\n"
      ],
      "execution_count": null,
      "outputs": []
    },
    {
      "cell_type": "code",
      "metadata": {
        "id": "XIfie-p69tfa",
        "colab": {
          "base_uri": "https://localhost:8080/"
        },
        "outputId": "8e351af8-50a2-4030-de2e-861cffc8c448"
      },
      "source": [
        "Y_train_2[1][24]"
      ],
      "execution_count": null,
      "outputs": [
        {
          "output_type": "execute_result",
          "data": {
            "text/plain": [
              "array([37])"
            ]
          },
          "metadata": {
            "tags": []
          },
          "execution_count": 80
        }
      ]
    },
    {
      "cell_type": "code",
      "metadata": {
        "id": "I53sQfZPRJlj",
        "colab": {
          "base_uri": "https://localhost:8080/",
          "height": 299
        },
        "outputId": "a51e4f83-19c4-4708-826b-445c214c8b01"
      },
      "source": [
        "from google.colab.patches import cv2_imshow\r\n",
        "test_image(57,images_f,images_f_2,Model)"
      ],
      "execution_count": null,
      "outputs": [
        {
          "output_type": "error",
          "ename": "NameError",
          "evalue": "ignored",
          "traceback": [
            "\u001b[0;31m---------------------------------------------------------------------------\u001b[0m",
            "\u001b[0;31mNameError\u001b[0m                                 Traceback (most recent call last)",
            "\u001b[0;32m<ipython-input-81-e630ccd6b96e>\u001b[0m in \u001b[0;36m<module>\u001b[0;34m()\u001b[0m\n\u001b[1;32m      1\u001b[0m \u001b[0;32mfrom\u001b[0m \u001b[0mgoogle\u001b[0m\u001b[0;34m.\u001b[0m\u001b[0mcolab\u001b[0m\u001b[0;34m.\u001b[0m\u001b[0mpatches\u001b[0m \u001b[0;32mimport\u001b[0m \u001b[0mcv2_imshow\u001b[0m\u001b[0;34m\u001b[0m\u001b[0;34m\u001b[0m\u001b[0m\n\u001b[0;32m----> 2\u001b[0;31m \u001b[0mtest_image\u001b[0m\u001b[0;34m(\u001b[0m\u001b[0;36m57\u001b[0m\u001b[0;34m,\u001b[0m\u001b[0mimages_f\u001b[0m\u001b[0;34m,\u001b[0m\u001b[0mimages_f_2\u001b[0m\u001b[0;34m,\u001b[0m\u001b[0mModel\u001b[0m\u001b[0;34m)\u001b[0m\u001b[0;34m\u001b[0m\u001b[0;34m\u001b[0m\u001b[0m\n\u001b[0m",
            "\u001b[0;32m<ipython-input-79-d59b473778fb>\u001b[0m in \u001b[0;36mtest_image\u001b[0;34m(ind, images_f, images_f_2, Model)\u001b[0m\n\u001b[1;32m      2\u001b[0m \u001b[0;34m\u001b[0m\u001b[0m\n\u001b[1;32m      3\u001b[0m   \u001b[0;31m#pretvorba nazad u rgb format\u001b[0m\u001b[0;34m\u001b[0m\u001b[0;34m\u001b[0m\u001b[0;34m\u001b[0m\u001b[0m\n\u001b[0;32m----> 4\u001b[0;31m   \u001b[0mimage\u001b[0m \u001b[0;34m=\u001b[0m \u001b[0mcv2\u001b[0m\u001b[0;34m.\u001b[0m\u001b[0mcvtColor\u001b[0m\u001b[0;34m(\u001b[0m\u001b[0mimages_f\u001b[0m\u001b[0;34m[\u001b[0m\u001b[0mind\u001b[0m\u001b[0;34m]\u001b[0m\u001b[0;34m,\u001b[0m \u001b[0mcv2\u001b[0m\u001b[0;34m.\u001b[0m\u001b[0mCOLOR_BGR2RGB\u001b[0m\u001b[0;34m)\u001b[0m\u001b[0;34m\u001b[0m\u001b[0;34m\u001b[0m\u001b[0m\n\u001b[0m\u001b[1;32m      5\u001b[0m   \u001b[0mcv2_imshow\u001b[0m\u001b[0;34m(\u001b[0m\u001b[0mimage\u001b[0m\u001b[0;34m)\u001b[0m\u001b[0;34m\u001b[0m\u001b[0;34m\u001b[0m\u001b[0m\n\u001b[1;32m      6\u001b[0m   \u001b[0mimage_test\u001b[0m\u001b[0;34m=\u001b[0m\u001b[0mimages_f_2\u001b[0m\u001b[0;34m[\u001b[0m\u001b[0mind\u001b[0m\u001b[0;34m]\u001b[0m\u001b[0;34m\u001b[0m\u001b[0;34m\u001b[0m\u001b[0m\n",
            "\u001b[0;31mNameError\u001b[0m: name 'cv2' is not defined"
          ]
        }
      ]
    },
    {
      "cell_type": "code",
      "metadata": {
        "id": "fO8yiT2iR1Q6"
      },
      "source": [
        "test_image(137,images_f,images_f_2,Model)"
      ],
      "execution_count": null,
      "outputs": []
    },
    {
      "cell_type": "code",
      "metadata": {
        "id": "rfDMx_vbSDAC"
      },
      "source": [
        "test_image(502,images_f,images_f_2,Model)"
      ],
      "execution_count": null,
      "outputs": []
    },
    {
      "cell_type": "code",
      "metadata": {
        "id": "P4XV-ZlJSKeK"
      },
      "source": [
        "test_image(24,images_f,images_f_2,Model)"
      ],
      "execution_count": null,
      "outputs": []
    },
    {
      "cell_type": "code",
      "metadata": {
        "id": "Owl5BfNDJzc9"
      },
      "source": [
        ""
      ],
      "execution_count": null,
      "outputs": []
    }
  ]
}